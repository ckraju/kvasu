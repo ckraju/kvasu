{
  "nbformat": 4,
  "nbformat_minor": 0,
  "metadata": {
    "colab": {
      "name": "diabetes-pandas.ipynb",
      "provenance": [],
      "collapsed_sections": [],
      "include_colab_link": true
    },
    "kernelspec": {
      "name": "python3",
      "display_name": "Python 3"
    }
  },
  "cells": [
    {
      "cell_type": "markdown",
      "metadata": {
        "id": "view-in-github",
        "colab_type": "text"
      },
      "source": [
        "<a href=\"https://colab.research.google.com/github/ckraju/kvasu/blob/master/currency.ipynb\" target=\"_parent\"><img src=\"https://colab.research.google.com/assets/colab-badge.svg\" alt=\"Open In Colab\"/></a>"
      ]
    },
    {
      "cell_type": "code",
      "metadata": {
        "id": "ZYUuODpIbHpu",
        "colab_type": "code",
        "outputId": "18f0e6b3-e951-4e81-c267-a2ea254321c6",
        "colab": {
          "resources": {
            "http://localhost:8080/nbextensions/google.colab/files.js": {
              "data": "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",
              "ok": true,
              "headers": [
                [
                  "content-type",
                  "application/javascript"
                ]
              ],
              "status": 200,
              "status_text": "OK"
            }
          },
          "base_uri": "https://localhost:8080/",
          "height": 75
        }
      },
      "source": [
        "from google.colab import files\n",
        "uploaded = files.upload()"
      ],
      "execution_count": 19,
      "outputs": [
        {
          "output_type": "display_data",
          "data": {
            "text/html": [
              "\n",
              "     <input type=\"file\" id=\"files-78077a28-4d64-4de1-b15e-4abe14fed47e\" name=\"files[]\" multiple disabled />\n",
              "     <output id=\"result-78077a28-4d64-4de1-b15e-4abe14fed47e\">\n",
              "      Upload widget is only available when the cell has been executed in the\n",
              "      current browser session. Please rerun this cell to enable.\n",
              "      </output>\n",
              "      <script src=\"/nbextensions/google.colab/files.js\"></script> "
            ],
            "text/plain": [
              "<IPython.core.display.HTML object>"
            ]
          },
          "metadata": {
            "tags": []
          }
        },
        {
          "output_type": "stream",
          "text": [
            "Saving test.csv to test.csv\n"
          ],
          "name": "stdout"
        }
      ]
    },
    {
      "cell_type": "code",
      "metadata": {
        "id": "vZbF5toObZ4t",
        "colab_type": "code",
        "colab": {}
      },
      "source": [
        "import pandas as pd\n"
      ],
      "execution_count": 0,
      "outputs": []
    },
    {
      "cell_type": "code",
      "metadata": {
        "id": "DAIabSxIbcrT",
        "colab_type": "code",
        "colab": {}
      },
      "source": [
        "import io\n",
        "\n",
        "df2 = pd.read_csv(io.BytesIO(uploaded['test.csv']))\n",
        "\n",
        "# Dataset is now stored in a Pandas Dataframe"
      ],
      "execution_count": 0,
      "outputs": []
    },
    {
      "cell_type": "markdown",
      "metadata": {
        "id": "UtpPyoEKch6B",
        "colab_type": "text"
      },
      "source": [
        ""
      ]
    },
    {
      "cell_type": "code",
      "metadata": {
        "id": "Ai24xiVNelLZ",
        "colab_type": "code",
        "colab": {}
      },
      "source": [
        "# Visualize training history\n",
        "from keras.models import Sequential\n",
        "from keras.layers import Dense\n",
        "import matplotlib.pyplot as plt\n",
        "import numpy\n",
        "from keras.utils import to_categorical"
      ],
      "execution_count": 0,
      "outputs": []
    },
    {
      "cell_type": "code",
      "metadata": {
        "id": "HKPD3qUQeoDe",
        "colab_type": "code",
        "colab": {}
      },
      "source": [
        "# fix random seed for reproducibility\n",
        "seed = 23\n",
        "numpy.random.seed(seed)\n",
        "# load pima indians dataset\n",
        "dataset = numpy.loadtxt(\"test.csv\", delimiter=\",\")\n",
        "# split into input (X) and output (Y) variables\n",
        "X = dataset[:,0:23]\n",
        "Y = dataset[:,23]"
      ],
      "execution_count": 0,
      "outputs": []
    },
    {
      "cell_type": "code",
      "metadata": {
        "id": "JVlDc58yfOId",
        "colab_type": "code",
        "outputId": "1294810c-bda0-4bb4-9783-ab11a0c905f9",
        "colab": {
          "base_uri": "https://localhost:8080/",
          "height": 139
        }
      },
      "source": [
        "X"
      ],
      "execution_count": 24,
      "outputs": [
        {
          "output_type": "execute_result",
          "data": {
            "text/plain": [
              "array([[0.9, 1. , 1. , ..., 0.9, 0.9, 1. ],\n",
              "       [0.9, 1. , 1. , ..., 0.9, 0.9, 1. ],\n",
              "       [0.9, 1. , 0.9, ..., 0.9, 0.9, 1. ],\n",
              "       ...,\n",
              "       [1. , 0.9, 0.9, ..., 1. , 1. , 0.9],\n",
              "       [1. , 0.9, 0.9, ..., 1. , 1. , 0.9],\n",
              "       [1. , 0.9, 1. , ..., 1. , 1. , 0.9]])"
            ]
          },
          "metadata": {
            "tags": []
          },
          "execution_count": 24
        }
      ]
    },
    {
      "cell_type": "code",
      "metadata": {
        "id": "eKIfHEqOfTzR",
        "colab_type": "code",
        "outputId": "6b29ac53-ccde-4366-9336-496567d6448b",
        "colab": {
          "base_uri": "https://localhost:8080/",
          "height": 86
        }
      },
      "source": [
        "Y"
      ],
      "execution_count": 25,
      "outputs": [
        {
          "output_type": "execute_result",
          "data": {
            "text/plain": [
              "array([0., 0., 0., 0., 0., 0., 0., 0., 0., 0., 0., 0., 0., 0., 0., 0., 1.,\n",
              "       1., 1., 1., 1., 1., 1., 1., 1., 1., 1., 1., 1., 1., 0., 0., 0., 0.,\n",
              "       0., 0., 0., 0., 0., 0., 1., 1., 1., 1., 1., 1., 1., 1., 1., 1., 1.,\n",
              "       1., 1., 1., 1., 1., 1., 1., 1.])"
            ]
          },
          "metadata": {
            "tags": []
          },
          "execution_count": 25
        }
      ]
    },
    {
      "cell_type": "code",
      "metadata": {
        "id": "ydsfY1E2eqoy",
        "colab_type": "code",
        "colab": {}
      },
      "source": [
        "# create model\n",
        "model = Sequential()\n",
        "model.add(Dense(23, input_dim=23, kernel_initializer='uniform', activation='relu'))\n",
        "model.add(Dense(480, kernel_initializer='uniform', activation='relu'))\n",
        "model.add(Dense(180, kernel_initializer='uniform', activation='relu'))\n",
        "model.add(Dense(1, kernel_initializer='uniform', activation='sigmoid'))"
      ],
      "execution_count": 0,
      "outputs": []
    },
    {
      "cell_type": "code",
      "metadata": {
        "id": "mzgAC0seeu19",
        "colab_type": "code",
        "outputId": "d7324bd2-2586-43e3-8879-189d895db87c",
        "colab": {
          "base_uri": "https://localhost:8080/",
          "height": 1000
        }
      },
      "source": [
        "# Compile model\n",
        "model.compile(loss='binary_crossentropy', optimizer='adam', metrics=['accuracy'])\n",
        "# Fit the model\n",
        "history = model.fit(X, Y, validation_split=0.23, epochs=150)\n",
        "# list all data in history\n",
        "print(history.history.keys())"
      ],
      "execution_count": 29,
      "outputs": [
        {
          "output_type": "stream",
          "text": [
            "Train on 45 samples, validate on 14 samples\n",
            "Epoch 1/150\n",
            "45/45 [==============================] - 1s 15ms/step - loss: 0.6927 - acc: 0.5778 - val_loss: 0.7013 - val_acc: 0.0000e+00\n",
            "Epoch 2/150\n",
            "45/45 [==============================] - 0s 403us/step - loss: 0.6918 - acc: 0.5778 - val_loss: 0.7125 - val_acc: 0.0000e+00\n",
            "Epoch 3/150\n",
            "45/45 [==============================] - 0s 383us/step - loss: 0.6900 - acc: 0.5778 - val_loss: 0.7296 - val_acc: 0.0000e+00\n",
            "Epoch 4/150\n",
            "45/45 [==============================] - 0s 348us/step - loss: 0.6877 - acc: 0.5778 - val_loss: 0.7562 - val_acc: 0.0000e+00\n",
            "Epoch 5/150\n",
            "45/45 [==============================] - 0s 343us/step - loss: 0.6845 - acc: 0.5778 - val_loss: 0.7897 - val_acc: 0.0000e+00\n",
            "Epoch 6/150\n",
            "45/45 [==============================] - 0s 376us/step - loss: 0.6828 - acc: 0.5778 - val_loss: 0.8352 - val_acc: 0.0000e+00\n",
            "Epoch 7/150\n",
            "45/45 [==============================] - 0s 442us/step - loss: 0.6804 - acc: 0.5778 - val_loss: 0.8735 - val_acc: 0.0000e+00\n",
            "Epoch 8/150\n",
            "45/45 [==============================] - 0s 314us/step - loss: 0.6814 - acc: 0.5778 - val_loss: 0.9194 - val_acc: 0.0000e+00\n",
            "Epoch 9/150\n",
            "45/45 [==============================] - 0s 333us/step - loss: 0.6848 - acc: 0.5778 - val_loss: 0.9470 - val_acc: 0.0000e+00\n",
            "Epoch 10/150\n",
            "45/45 [==============================] - 0s 327us/step - loss: 0.6842 - acc: 0.5778 - val_loss: 0.9357 - val_acc: 0.0000e+00\n",
            "Epoch 11/150\n",
            "45/45 [==============================] - 0s 334us/step - loss: 0.6832 - acc: 0.5778 - val_loss: 0.9104 - val_acc: 0.0000e+00\n",
            "Epoch 12/150\n",
            "45/45 [==============================] - 0s 281us/step - loss: 0.6824 - acc: 0.5778 - val_loss: 0.8828 - val_acc: 0.0000e+00\n",
            "Epoch 13/150\n",
            "45/45 [==============================] - 0s 318us/step - loss: 0.6810 - acc: 0.5778 - val_loss: 0.8613 - val_acc: 0.0000e+00\n",
            "Epoch 14/150\n",
            "45/45 [==============================] - 0s 327us/step - loss: 0.6809 - acc: 0.5778 - val_loss: 0.8389 - val_acc: 0.0000e+00\n",
            "Epoch 15/150\n",
            "45/45 [==============================] - 0s 302us/step - loss: 0.6811 - acc: 0.5778 - val_loss: 0.8217 - val_acc: 0.0000e+00\n",
            "Epoch 16/150\n",
            "45/45 [==============================] - 0s 285us/step - loss: 0.6812 - acc: 0.5778 - val_loss: 0.8093 - val_acc: 0.0000e+00\n",
            "Epoch 17/150\n",
            "45/45 [==============================] - 0s 319us/step - loss: 0.6818 - acc: 0.5778 - val_loss: 0.7947 - val_acc: 0.0000e+00\n",
            "Epoch 18/150\n",
            "45/45 [==============================] - 0s 356us/step - loss: 0.6824 - acc: 0.5778 - val_loss: 0.7852 - val_acc: 0.0000e+00\n",
            "Epoch 19/150\n",
            "45/45 [==============================] - 0s 379us/step - loss: 0.6832 - acc: 0.5778 - val_loss: 0.7804 - val_acc: 0.0000e+00\n",
            "Epoch 20/150\n",
            "45/45 [==============================] - 0s 363us/step - loss: 0.6831 - acc: 0.5778 - val_loss: 0.7818 - val_acc: 0.0000e+00\n",
            "Epoch 21/150\n",
            "45/45 [==============================] - 0s 345us/step - loss: 0.6830 - acc: 0.5778 - val_loss: 0.7850 - val_acc: 0.0000e+00\n",
            "Epoch 22/150\n",
            "45/45 [==============================] - 0s 382us/step - loss: 0.6827 - acc: 0.5778 - val_loss: 0.7897 - val_acc: 0.0000e+00\n",
            "Epoch 23/150\n",
            "45/45 [==============================] - 0s 339us/step - loss: 0.6824 - acc: 0.5778 - val_loss: 0.7969 - val_acc: 0.0000e+00\n",
            "Epoch 24/150\n",
            "45/45 [==============================] - 0s 345us/step - loss: 0.6820 - acc: 0.5778 - val_loss: 0.8124 - val_acc: 0.0000e+00\n",
            "Epoch 25/150\n",
            "45/45 [==============================] - 0s 339us/step - loss: 0.6813 - acc: 0.5778 - val_loss: 0.8274 - val_acc: 0.0000e+00\n",
            "Epoch 26/150\n",
            "45/45 [==============================] - 0s 344us/step - loss: 0.6805 - acc: 0.5778 - val_loss: 0.8420 - val_acc: 0.0000e+00\n",
            "Epoch 27/150\n",
            "45/45 [==============================] - 0s 401us/step - loss: 0.6801 - acc: 0.5778 - val_loss: 0.8584 - val_acc: 0.0000e+00\n",
            "Epoch 28/150\n",
            "45/45 [==============================] - 0s 410us/step - loss: 0.6797 - acc: 0.5778 - val_loss: 0.8762 - val_acc: 0.0000e+00\n",
            "Epoch 29/150\n",
            "45/45 [==============================] - 0s 342us/step - loss: 0.6809 - acc: 0.5778 - val_loss: 0.8938 - val_acc: 0.0000e+00\n",
            "Epoch 30/150\n",
            "45/45 [==============================] - 0s 290us/step - loss: 0.6805 - acc: 0.5778 - val_loss: 0.8999 - val_acc: 0.0000e+00\n",
            "Epoch 31/150\n",
            "45/45 [==============================] - 0s 341us/step - loss: 0.6810 - acc: 0.5778 - val_loss: 0.9102 - val_acc: 0.0000e+00\n",
            "Epoch 32/150\n",
            "45/45 [==============================] - 0s 291us/step - loss: 0.6804 - acc: 0.5778 - val_loss: 0.9044 - val_acc: 0.0000e+00\n",
            "Epoch 33/150\n",
            "45/45 [==============================] - 0s 259us/step - loss: 0.6800 - acc: 0.5778 - val_loss: 0.8909 - val_acc: 0.0000e+00\n",
            "Epoch 34/150\n",
            "45/45 [==============================] - 0s 313us/step - loss: 0.6798 - acc: 0.5778 - val_loss: 0.8711 - val_acc: 0.0000e+00\n",
            "Epoch 35/150\n",
            "45/45 [==============================] - 0s 410us/step - loss: 0.6798 - acc: 0.5778 - val_loss: 0.8580 - val_acc: 0.0000e+00\n",
            "Epoch 36/150\n",
            "45/45 [==============================] - 0s 312us/step - loss: 0.6790 - acc: 0.5778 - val_loss: 0.8526 - val_acc: 0.0000e+00\n",
            "Epoch 37/150\n",
            "45/45 [==============================] - 0s 284us/step - loss: 0.6789 - acc: 0.5778 - val_loss: 0.8464 - val_acc: 0.0000e+00\n",
            "Epoch 38/150\n",
            "45/45 [==============================] - 0s 327us/step - loss: 0.6789 - acc: 0.5778 - val_loss: 0.8388 - val_acc: 0.0000e+00\n",
            "Epoch 39/150\n",
            "45/45 [==============================] - 0s 341us/step - loss: 0.6786 - acc: 0.5778 - val_loss: 0.8256 - val_acc: 0.0000e+00\n",
            "Epoch 40/150\n",
            "45/45 [==============================] - 0s 332us/step - loss: 0.6793 - acc: 0.5778 - val_loss: 0.8170 - val_acc: 0.0000e+00\n",
            "Epoch 41/150\n",
            "45/45 [==============================] - 0s 372us/step - loss: 0.6789 - acc: 0.5778 - val_loss: 0.8175 - val_acc: 0.0000e+00\n",
            "Epoch 42/150\n",
            "45/45 [==============================] - 0s 372us/step - loss: 0.6792 - acc: 0.5778 - val_loss: 0.8202 - val_acc: 0.0000e+00\n",
            "Epoch 43/150\n",
            "45/45 [==============================] - 0s 252us/step - loss: 0.6786 - acc: 0.5778 - val_loss: 0.8185 - val_acc: 0.0000e+00\n",
            "Epoch 44/150\n",
            "45/45 [==============================] - 0s 405us/step - loss: 0.6781 - acc: 0.5778 - val_loss: 0.8248 - val_acc: 0.0000e+00\n",
            "Epoch 45/150\n",
            "45/45 [==============================] - 0s 394us/step - loss: 0.6776 - acc: 0.5778 - val_loss: 0.8365 - val_acc: 0.0000e+00\n",
            "Epoch 46/150\n",
            "45/45 [==============================] - 0s 310us/step - loss: 0.6770 - acc: 0.5778 - val_loss: 0.8583 - val_acc: 0.0000e+00\n",
            "Epoch 47/150\n",
            "45/45 [==============================] - 0s 341us/step - loss: 0.6765 - acc: 0.5778 - val_loss: 0.8804 - val_acc: 0.0000e+00\n",
            "Epoch 48/150\n",
            "45/45 [==============================] - 0s 341us/step - loss: 0.6775 - acc: 0.5778 - val_loss: 0.8966 - val_acc: 0.0000e+00\n",
            "Epoch 49/150\n",
            "45/45 [==============================] - 0s 300us/step - loss: 0.6777 - acc: 0.5778 - val_loss: 0.8999 - val_acc: 0.0000e+00\n",
            "Epoch 50/150\n",
            "45/45 [==============================] - 0s 376us/step - loss: 0.6773 - acc: 0.5778 - val_loss: 0.9140 - val_acc: 0.0000e+00\n",
            "Epoch 51/150\n",
            "45/45 [==============================] - 0s 336us/step - loss: 0.6765 - acc: 0.5778 - val_loss: 0.9088 - val_acc: 0.0000e+00\n",
            "Epoch 52/150\n",
            "45/45 [==============================] - 0s 280us/step - loss: 0.6758 - acc: 0.5778 - val_loss: 0.8984 - val_acc: 0.0000e+00\n",
            "Epoch 53/150\n",
            "45/45 [==============================] - 0s 264us/step - loss: 0.6748 - acc: 0.5778 - val_loss: 0.8788 - val_acc: 0.0000e+00\n",
            "Epoch 54/150\n",
            "45/45 [==============================] - 0s 257us/step - loss: 0.6742 - acc: 0.5778 - val_loss: 0.8562 - val_acc: 0.0000e+00\n",
            "Epoch 55/150\n",
            "45/45 [==============================] - 0s 306us/step - loss: 0.6730 - acc: 0.5778 - val_loss: 0.8382 - val_acc: 0.0000e+00\n",
            "Epoch 56/150\n",
            "45/45 [==============================] - 0s 416us/step - loss: 0.6723 - acc: 0.5778 - val_loss: 0.8213 - val_acc: 0.0000e+00\n",
            "Epoch 57/150\n",
            "45/45 [==============================] - 0s 299us/step - loss: 0.6721 - acc: 0.5778 - val_loss: 0.8042 - val_acc: 0.0000e+00\n",
            "Epoch 58/150\n",
            "45/45 [==============================] - 0s 270us/step - loss: 0.6740 - acc: 0.5778 - val_loss: 0.8001 - val_acc: 0.0000e+00\n",
            "Epoch 59/150\n",
            "45/45 [==============================] - 0s 312us/step - loss: 0.6705 - acc: 0.5778 - val_loss: 0.8266 - val_acc: 0.0000e+00\n",
            "Epoch 60/150\n",
            "45/45 [==============================] - 0s 318us/step - loss: 0.6685 - acc: 0.5778 - val_loss: 0.8608 - val_acc: 0.0000e+00\n",
            "Epoch 61/150\n",
            "45/45 [==============================] - 0s 345us/step - loss: 0.6670 - acc: 0.5778 - val_loss: 0.9117 - val_acc: 0.0000e+00\n",
            "Epoch 62/150\n",
            "45/45 [==============================] - 0s 281us/step - loss: 0.6763 - acc: 0.5778 - val_loss: 0.9529 - val_acc: 0.0000e+00\n",
            "Epoch 63/150\n",
            "45/45 [==============================] - 0s 331us/step - loss: 0.6708 - acc: 0.5778 - val_loss: 0.9218 - val_acc: 0.0000e+00\n",
            "Epoch 64/150\n",
            "45/45 [==============================] - 0s 281us/step - loss: 0.6662 - acc: 0.5778 - val_loss: 0.8639 - val_acc: 0.0000e+00\n",
            "Epoch 65/150\n",
            "45/45 [==============================] - 0s 285us/step - loss: 0.6669 - acc: 0.5778 - val_loss: 0.7995 - val_acc: 0.0000e+00\n",
            "Epoch 66/150\n",
            "45/45 [==============================] - 0s 283us/step - loss: 0.6630 - acc: 0.5778 - val_loss: 0.7617 - val_acc: 0.0000e+00\n",
            "Epoch 67/150\n",
            "45/45 [==============================] - 0s 312us/step - loss: 0.6645 - acc: 0.5778 - val_loss: 0.7359 - val_acc: 0.0000e+00\n",
            "Epoch 68/150\n",
            "45/45 [==============================] - 0s 312us/step - loss: 0.6672 - acc: 0.5778 - val_loss: 0.7329 - val_acc: 0.0000e+00\n",
            "Epoch 69/150\n",
            "45/45 [==============================] - 0s 290us/step - loss: 0.6619 - acc: 0.5778 - val_loss: 0.7693 - val_acc: 0.0000e+00\n",
            "Epoch 70/150\n",
            "45/45 [==============================] - 0s 351us/step - loss: 0.6620 - acc: 0.5778 - val_loss: 0.8095 - val_acc: 0.0000e+00\n",
            "Epoch 71/150\n",
            "45/45 [==============================] - 0s 288us/step - loss: 0.6558 - acc: 0.5778 - val_loss: 0.8236 - val_acc: 0.0000e+00\n",
            "Epoch 72/150\n",
            "45/45 [==============================] - 0s 286us/step - loss: 0.6550 - acc: 0.5778 - val_loss: 0.8399 - val_acc: 0.0000e+00\n",
            "Epoch 73/150\n",
            "45/45 [==============================] - 0s 308us/step - loss: 0.6518 - acc: 0.5778 - val_loss: 0.8260 - val_acc: 0.0000e+00\n",
            "Epoch 74/150\n",
            "45/45 [==============================] - 0s 304us/step - loss: 0.6480 - acc: 0.5778 - val_loss: 0.8263 - val_acc: 0.0000e+00\n",
            "Epoch 75/150\n",
            "45/45 [==============================] - 0s 287us/step - loss: 0.6454 - acc: 0.5778 - val_loss: 0.8216 - val_acc: 0.0000e+00\n",
            "Epoch 76/150\n",
            "45/45 [==============================] - 0s 350us/step - loss: 0.6393 - acc: 0.5778 - val_loss: 0.7618 - val_acc: 0.0000e+00\n",
            "Epoch 77/150\n",
            "45/45 [==============================] - 0s 354us/step - loss: 0.6319 - acc: 0.5778 - val_loss: 0.7121 - val_acc: 0.0000e+00\n",
            "Epoch 78/150\n",
            "45/45 [==============================] - 0s 299us/step - loss: 0.6270 - acc: 0.6000 - val_loss: 0.7087 - val_acc: 0.4286\n",
            "Epoch 79/150\n",
            "45/45 [==============================] - 0s 335us/step - loss: 0.6176 - acc: 0.5778 - val_loss: 0.7530 - val_acc: 0.0000e+00\n",
            "Epoch 80/150\n",
            "45/45 [==============================] - 0s 371us/step - loss: 0.6080 - acc: 0.5778 - val_loss: 0.7247 - val_acc: 0.4286\n",
            "Epoch 81/150\n",
            "45/45 [==============================] - 0s 345us/step - loss: 0.5988 - acc: 0.6222 - val_loss: 0.7210 - val_acc: 0.5714\n",
            "Epoch 82/150\n",
            "45/45 [==============================] - 0s 333us/step - loss: 0.5853 - acc: 0.5778 - val_loss: 0.7096 - val_acc: 0.7143\n",
            "Epoch 83/150\n",
            "45/45 [==============================] - 0s 287us/step - loss: 0.5750 - acc: 0.6667 - val_loss: 0.6828 - val_acc: 0.8571\n",
            "Epoch 84/150\n",
            "45/45 [==============================] - 0s 340us/step - loss: 0.5571 - acc: 0.6889 - val_loss: 0.7100 - val_acc: 0.7143\n",
            "Epoch 85/150\n",
            "45/45 [==============================] - 0s 368us/step - loss: 0.5421 - acc: 0.6667 - val_loss: 0.6582 - val_acc: 0.8571\n",
            "Epoch 86/150\n",
            "45/45 [==============================] - 0s 393us/step - loss: 0.5217 - acc: 0.8444 - val_loss: 0.7054 - val_acc: 0.7143\n",
            "Epoch 87/150\n",
            "45/45 [==============================] - 0s 367us/step - loss: 0.5106 - acc: 0.6889 - val_loss: 0.6619 - val_acc: 0.8571\n",
            "Epoch 88/150\n",
            "45/45 [==============================] - 0s 367us/step - loss: 0.4850 - acc: 0.7333 - val_loss: 0.6021 - val_acc: 1.0000\n",
            "Epoch 89/150\n",
            "45/45 [==============================] - 0s 409us/step - loss: 0.4952 - acc: 0.9556 - val_loss: 0.6241 - val_acc: 0.8571\n",
            "Epoch 90/150\n",
            "45/45 [==============================] - 0s 385us/step - loss: 0.4912 - acc: 0.7556 - val_loss: 0.6673 - val_acc: 0.7857\n",
            "Epoch 91/150\n",
            "45/45 [==============================] - 0s 434us/step - loss: 0.4450 - acc: 0.8000 - val_loss: 0.5281 - val_acc: 1.0000\n",
            "Epoch 92/150\n",
            "45/45 [==============================] - 0s 400us/step - loss: 0.4794 - acc: 0.9556 - val_loss: 0.5262 - val_acc: 1.0000\n",
            "Epoch 93/150\n",
            "45/45 [==============================] - 0s 270us/step - loss: 0.4140 - acc: 0.8444 - val_loss: 0.5491 - val_acc: 0.8571\n",
            "Epoch 94/150\n",
            "45/45 [==============================] - 0s 340us/step - loss: 0.3770 - acc: 0.8000 - val_loss: 0.4350 - val_acc: 1.0000\n",
            "Epoch 95/150\n",
            "45/45 [==============================] - 0s 328us/step - loss: 0.4488 - acc: 0.9556 - val_loss: 0.4090 - val_acc: 1.0000\n",
            "Epoch 96/150\n",
            "45/45 [==============================] - 0s 298us/step - loss: 0.3445 - acc: 0.9778 - val_loss: 0.6115 - val_acc: 0.7857\n",
            "Epoch 97/150\n",
            "45/45 [==============================] - 0s 381us/step - loss: 0.4736 - acc: 0.7111 - val_loss: 0.3905 - val_acc: 0.9286\n",
            "Epoch 98/150\n",
            "45/45 [==============================] - 0s 408us/step - loss: 0.3063 - acc: 0.9333 - val_loss: 0.3052 - val_acc: 1.0000\n",
            "Epoch 99/150\n",
            "45/45 [==============================] - 0s 334us/step - loss: 0.3624 - acc: 0.9778 - val_loss: 0.3152 - val_acc: 1.0000\n",
            "Epoch 100/150\n",
            "45/45 [==============================] - 0s 441us/step - loss: 0.2745 - acc: 0.9111 - val_loss: 0.3189 - val_acc: 0.9286\n",
            "Epoch 101/150\n",
            "45/45 [==============================] - 0s 491us/step - loss: 0.2859 - acc: 0.8667 - val_loss: 0.2298 - val_acc: 1.0000\n",
            "Epoch 102/150\n",
            "45/45 [==============================] - 0s 397us/step - loss: 0.2370 - acc: 1.0000 - val_loss: 0.2097 - val_acc: 1.0000\n",
            "Epoch 103/150\n",
            "45/45 [==============================] - 0s 304us/step - loss: 0.2217 - acc: 1.0000 - val_loss: 0.2130 - val_acc: 1.0000\n",
            "Epoch 104/150\n",
            "45/45 [==============================] - 0s 335us/step - loss: 0.2140 - acc: 0.9556 - val_loss: 0.1874 - val_acc: 1.0000\n",
            "Epoch 105/150\n",
            "45/45 [==============================] - 0s 329us/step - loss: 0.1910 - acc: 0.9556 - val_loss: 0.1144 - val_acc: 1.0000\n",
            "Epoch 106/150\n",
            "45/45 [==============================] - 0s 298us/step - loss: 0.1846 - acc: 0.9778 - val_loss: 0.1004 - val_acc: 1.0000\n",
            "Epoch 107/150\n",
            "45/45 [==============================] - 0s 363us/step - loss: 0.1536 - acc: 1.0000 - val_loss: 0.1426 - val_acc: 1.0000\n",
            "Epoch 108/150\n",
            "45/45 [==============================] - 0s 302us/step - loss: 0.1858 - acc: 0.9111 - val_loss: 0.0750 - val_acc: 1.0000\n",
            "Epoch 109/150\n",
            "45/45 [==============================] - 0s 244us/step - loss: 0.1554 - acc: 1.0000 - val_loss: 0.0532 - val_acc: 1.0000\n",
            "Epoch 110/150\n",
            "45/45 [==============================] - 0s 381us/step - loss: 0.1416 - acc: 0.9556 - val_loss: 0.1057 - val_acc: 1.0000\n",
            "Epoch 111/150\n",
            "45/45 [==============================] - 0s 323us/step - loss: 0.1490 - acc: 0.9556 - val_loss: 0.0398 - val_acc: 1.0000\n",
            "Epoch 112/150\n",
            "45/45 [==============================] - 0s 332us/step - loss: 0.1250 - acc: 0.9556 - val_loss: 0.0317 - val_acc: 1.0000\n",
            "Epoch 113/150\n",
            "45/45 [==============================] - 0s 303us/step - loss: 0.1491 - acc: 0.9556 - val_loss: 0.0560 - val_acc: 1.0000\n",
            "Epoch 114/150\n",
            "45/45 [==============================] - 0s 353us/step - loss: 0.1008 - acc: 0.9778 - val_loss: 0.0262 - val_acc: 1.0000\n",
            "Epoch 115/150\n",
            "45/45 [==============================] - 0s 363us/step - loss: 0.1545 - acc: 0.9556 - val_loss: 0.0455 - val_acc: 1.0000\n",
            "Epoch 116/150\n",
            "45/45 [==============================] - 0s 380us/step - loss: 0.1166 - acc: 0.9778 - val_loss: 0.1700 - val_acc: 0.8571\n",
            "Epoch 117/150\n",
            "45/45 [==============================] - 0s 380us/step - loss: 0.2272 - acc: 0.8667 - val_loss: 0.0171 - val_acc: 1.0000\n",
            "Epoch 118/150\n",
            "45/45 [==============================] - 0s 351us/step - loss: 0.1913 - acc: 0.9556 - val_loss: 0.0200 - val_acc: 1.0000\n",
            "Epoch 119/150\n",
            "45/45 [==============================] - 0s 254us/step - loss: 0.0799 - acc: 0.9778 - val_loss: 0.1264 - val_acc: 0.9286\n",
            "Epoch 120/150\n",
            "45/45 [==============================] - 0s 344us/step - loss: 0.2019 - acc: 0.8667 - val_loss: 0.0215 - val_acc: 1.0000\n",
            "Epoch 121/150\n",
            "45/45 [==============================] - 0s 278us/step - loss: 0.1218 - acc: 0.9556 - val_loss: 0.0142 - val_acc: 1.0000\n",
            "Epoch 122/150\n",
            "45/45 [==============================] - 0s 401us/step - loss: 0.1296 - acc: 0.9556 - val_loss: 0.0793 - val_acc: 1.0000\n",
            "Epoch 123/150\n",
            "45/45 [==============================] - 0s 302us/step - loss: 0.1689 - acc: 0.8889 - val_loss: 0.0327 - val_acc: 1.0000\n",
            "Epoch 124/150\n",
            "45/45 [==============================] - 0s 313us/step - loss: 0.0838 - acc: 0.9778 - val_loss: 0.0124 - val_acc: 1.0000\n",
            "Epoch 125/150\n",
            "45/45 [==============================] - 0s 370us/step - loss: 0.1619 - acc: 0.9556 - val_loss: 0.0227 - val_acc: 1.0000\n",
            "Epoch 126/150\n",
            "45/45 [==============================] - 0s 344us/step - loss: 0.0613 - acc: 0.9778 - val_loss: 0.0519 - val_acc: 1.0000\n",
            "Epoch 127/150\n",
            "45/45 [==============================] - 0s 369us/step - loss: 0.0954 - acc: 0.9556 - val_loss: 0.0200 - val_acc: 1.0000\n",
            "Epoch 128/150\n",
            "45/45 [==============================] - 0s 380us/step - loss: 0.0666 - acc: 1.0000 - val_loss: 0.0130 - val_acc: 1.0000\n",
            "Epoch 129/150\n",
            "45/45 [==============================] - 0s 249us/step - loss: 0.0741 - acc: 0.9778 - val_loss: 0.0223 - val_acc: 1.0000\n",
            "Epoch 130/150\n",
            "45/45 [==============================] - 0s 279us/step - loss: 0.0621 - acc: 1.0000 - val_loss: 0.0340 - val_acc: 1.0000\n",
            "Epoch 131/150\n",
            "45/45 [==============================] - 0s 328us/step - loss: 0.0750 - acc: 0.9778 - val_loss: 0.0180 - val_acc: 1.0000\n",
            "Epoch 132/150\n",
            "45/45 [==============================] - 0s 319us/step - loss: 0.0514 - acc: 1.0000 - val_loss: 0.0144 - val_acc: 1.0000\n",
            "Epoch 133/150\n",
            "45/45 [==============================] - 0s 282us/step - loss: 0.0530 - acc: 0.9778 - val_loss: 0.0138 - val_acc: 1.0000\n",
            "Epoch 134/150\n",
            "45/45 [==============================] - 0s 375us/step - loss: 0.0541 - acc: 0.9778 - val_loss: 0.0155 - val_acc: 1.0000\n",
            "Epoch 135/150\n",
            "45/45 [==============================] - 0s 252us/step - loss: 0.0497 - acc: 1.0000 - val_loss: 0.0173 - val_acc: 1.0000\n",
            "Epoch 136/150\n",
            "45/45 [==============================] - 0s 312us/step - loss: 0.0587 - acc: 1.0000 - val_loss: 0.0149 - val_acc: 1.0000\n",
            "Epoch 137/150\n",
            "45/45 [==============================] - 0s 283us/step - loss: 0.0539 - acc: 0.9778 - val_loss: 0.0109 - val_acc: 1.0000\n",
            "Epoch 138/150\n",
            "45/45 [==============================] - 0s 359us/step - loss: 0.0546 - acc: 0.9778 - val_loss: 0.0176 - val_acc: 1.0000\n",
            "Epoch 139/150\n",
            "45/45 [==============================] - 0s 298us/step - loss: 0.0465 - acc: 1.0000 - val_loss: 0.0178 - val_acc: 1.0000\n",
            "Epoch 140/150\n",
            "45/45 [==============================] - 0s 235us/step - loss: 0.0456 - acc: 1.0000 - val_loss: 0.0155 - val_acc: 1.0000\n",
            "Epoch 141/150\n",
            "45/45 [==============================] - 0s 276us/step - loss: 0.0436 - acc: 1.0000 - val_loss: 0.0129 - val_acc: 1.0000\n",
            "Epoch 142/150\n",
            "45/45 [==============================] - 0s 251us/step - loss: 0.0416 - acc: 1.0000 - val_loss: 0.0149 - val_acc: 1.0000\n",
            "Epoch 143/150\n",
            "45/45 [==============================] - 0s 310us/step - loss: 0.0419 - acc: 1.0000 - val_loss: 0.0162 - val_acc: 1.0000\n",
            "Epoch 144/150\n",
            "45/45 [==============================] - 0s 292us/step - loss: 0.0418 - acc: 1.0000 - val_loss: 0.0113 - val_acc: 1.0000\n",
            "Epoch 145/150\n",
            "45/45 [==============================] - 0s 293us/step - loss: 0.0383 - acc: 1.0000 - val_loss: 0.0102 - val_acc: 1.0000\n",
            "Epoch 146/150\n",
            "45/45 [==============================] - 0s 276us/step - loss: 0.0392 - acc: 1.0000 - val_loss: 0.0104 - val_acc: 1.0000\n",
            "Epoch 147/150\n",
            "45/45 [==============================] - 0s 280us/step - loss: 0.0371 - acc: 1.0000 - val_loss: 0.0107 - val_acc: 1.0000\n",
            "Epoch 148/150\n",
            "45/45 [==============================] - 0s 495us/step - loss: 0.0355 - acc: 1.0000 - val_loss: 0.0142 - val_acc: 1.0000\n",
            "Epoch 149/150\n",
            "45/45 [==============================] - 0s 424us/step - loss: 0.0465 - acc: 1.0000 - val_loss: 0.0089 - val_acc: 1.0000\n",
            "Epoch 150/150\n",
            "45/45 [==============================] - 0s 445us/step - loss: 0.0464 - acc: 0.9778 - val_loss: 0.0063 - val_acc: 1.0000\n",
            "dict_keys(['val_loss', 'val_acc', 'loss', 'acc'])\n"
          ],
          "name": "stdout"
        }
      ]
    },
    {
      "cell_type": "code",
      "metadata": {
        "id": "xA0cQQd8cOs6",
        "colab_type": "code",
        "outputId": "1446d49b-12de-4b2e-8a66-47b9cb3df118",
        "colab": {
          "base_uri": "https://localhost:8080/",
          "height": 573
        }
      },
      "source": [
        "# summarize history for accuracy\n",
        "plt.plot(history.history['acc'])\n",
        "plt.plot(history.history['val_acc'])\n",
        "plt.title('model accuracy')\n",
        "plt.ylabel('accuracy')\n",
        "plt.xlabel('epoch')\n",
        "plt.legend(['train', 'test'], loc='upper left')\n",
        "plt.show()\n",
        "# summarize history for loss\n",
        "plt.plot(history.history['loss'])\n",
        "plt.plot(history.history['val_loss'])\n",
        "plt.title('model loss')\n",
        "plt.ylabel('loss')\n",
        "plt.xlabel('epoch')\n",
        "plt.legend(['train', 'test'], loc='upper left')\n",
        "plt.show()"
      ],
      "execution_count": 30,
      "outputs": [
        {
          "output_type": "display_data",
          "data": {
            "image/png": "[encoded data removed]",
            "text/plain": [
              "<Figure size 432x288 with 1 Axes>"
            ]
          },
          "metadata": {
            "tags": []
          }
        },
        {
          "output_type": "display_data",
          "data": {
            "image/png": "[encoded data removed]",
            "text/plain": [
              "<Figure size 432x288 with 1 Axes>"
            ]
          },
          "metadata": {
            "tags": []
          }
        }
      ]
    }
  ]
}