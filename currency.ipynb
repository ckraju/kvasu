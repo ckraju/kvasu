{
  "nbformat": 4,
  "nbformat_minor": 0,
  "metadata": {
    "colab": {
      "name": "diabetes-pandas.ipynb",
      "provenance": [],
      "collapsed_sections": [],
      "include_colab_link": true
    },
    "kernelspec": {
      "name": "python3",
      "display_name": "Python 3"
    }
  },
  "cells": [
    {
      "cell_type": "markdown",
      "metadata": {
        "id": "view-in-github",
        "colab_type": "text"
      },
      "source": [
        "<a href=\"https://colab.research.google.com/github/ckraju/kvasu/blob/master/currency.ipynb\" target=\"_parent\"><img src=\"https://colab.research.google.com/assets/colab-badge.svg\" alt=\"Open In Colab\"/></a>"
      ]
    },
    {
      "cell_type": "code",
      "metadata": {
        "id": "ZYUuODpIbHpu",
        "colab_type": "code",
        "outputId": "4374b871-ae2c-4344-e574-3c7ad503a69b",
        "colab": {
          "resources": {
            "http://localhost:8080/nbextensions/google.colab/files.js": {
              "data": "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",
              "ok": true,
              "headers": [
                [
                  "content-type",
                  "application/javascript"
                ]
              ],
              "status": 200,
              "status_text": "OK"
            }
          },
          "base_uri": "https://localhost:8080/",
          "height": 75
        }
      },
      "source": [
        "from google.colab import files\n",
        "uploaded = files.upload()"
      ],
      "execution_count": 1,
      "outputs": [
        {
          "output_type": "display_data",
          "data": {
            "text/html": [
              "\n",
              "     <input type=\"file\" id=\"files-2fae7757-8511-4499-ae3c-21b5305a25e5\" name=\"files[]\" multiple disabled />\n",
              "     <output id=\"result-2fae7757-8511-4499-ae3c-21b5305a25e5\">\n",
              "      Upload widget is only available when the cell has been executed in the\n",
              "      current browser session. Please rerun this cell to enable.\n",
              "      </output>\n",
              "      <script src=\"/nbextensions/google.colab/files.js\"></script> "
            ],
            "text/plain": [
              "<IPython.core.display.HTML object>"
            ]
          },
          "metadata": {
            "tags": []
          }
        },
        {
          "output_type": "stream",
          "text": [
            "Saving normnovdecjantrain.csv to normnovdecjantrain.csv\n"
          ],
          "name": "stdout"
        }
      ]
    },
    {
      "cell_type": "code",
      "metadata": {
        "id": "vZbF5toObZ4t",
        "colab_type": "code",
        "colab": {}
      },
      "source": [
        "import pandas as pd\n"
      ],
      "execution_count": 0,
      "outputs": []
    },
    {
      "cell_type": "code",
      "metadata": {
        "id": "DAIabSxIbcrT",
        "colab_type": "code",
        "colab": {}
      },
      "source": [
        "import io\n",
        "\n",
        "df2 = pd.read_csv(io.BytesIO(uploaded['normnovdecjantrain.csv']))\n",
        "\n",
        "# Dataset is now stored in a Pandas Dataframe"
      ],
      "execution_count": 0,
      "outputs": []
    },
    {
      "cell_type": "markdown",
      "metadata": {
        "id": "UtpPyoEKch6B",
        "colab_type": "text"
      },
      "source": [
        ""
      ]
    },
    {
      "cell_type": "code",
      "metadata": {
        "id": "Ai24xiVNelLZ",
        "colab_type": "code",
        "colab": {
          "base_uri": "https://localhost:8080/",
          "height": 81
        },
        "outputId": "c58f3636-1c96-4a93-fbde-1b792f3f5e9d"
      },
      "source": [
        "# Visualize training history\n",
        "from keras.models import Sequential\n",
        "from keras.layers import Dense\n",
        "import matplotlib.pyplot as plt\n",
        "import numpy\n",
        "from keras.utils import to_categorical"
      ],
      "execution_count": 5,
      "outputs": [
        {
          "output_type": "stream",
          "text": [
            "Using TensorFlow backend.\n"
          ],
          "name": "stderr"
        },
        {
          "output_type": "display_data",
          "data": {
            "text/html": [
              "<p style=\"color: red;\">\n",
              "The default version of TensorFlow in Colab will soon switch to TensorFlow 2.x.<br>\n",
              "We recommend you <a href=\"https://www.tensorflow.org/guide/migrate\" target=\"_blank\">upgrade</a> now \n",
              "or ensure your notebook will continue to use TensorFlow 1.x via the <code>%tensorflow_version 1.x</code> magic:\n",
              "<a href=\"https://colab.research.google.com/notebooks/tensorflow_version.ipynb\" target=\"_blank\">more info</a>.</p>\n"
            ],
            "text/plain": [
              "<IPython.core.display.HTML object>"
            ]
          },
          "metadata": {
            "tags": []
          }
        }
      ]
    },
    {
      "cell_type": "code",
      "metadata": {
        "id": "HKPD3qUQeoDe",
        "colab_type": "code",
        "colab": {}
      },
      "source": [
        "# fix random seed for reproducibility\n",
        "seed = 23\n",
        "numpy.random.seed(seed)\n",
        "# load pima indians dataset\n",
        "dataset = numpy.loadtxt(\"normnovdecjantrain.csv\", delimiter=\",\")\n",
        "# split into input (X) and output (Y) variables\n",
        "X = dataset[:,0:24]\n",
        "Y = dataset[:,24]"
      ],
      "execution_count": 0,
      "outputs": []
    },
    {
      "cell_type": "code",
      "metadata": {
        "id": "JVlDc58yfOId",
        "colab_type": "code",
        "outputId": "a4f88b5f-dae9-48e4-e50f-fc4079ed96e8",
        "colab": {
          "base_uri": "https://localhost:8080/",
          "height": 243
        }
      },
      "source": [
        "X"
      ],
      "execution_count": 7,
      "outputs": [
        {
          "output_type": "execute_result",
          "data": {
            "text/plain": [
              "array([[0.98259583, 1.00805291, 1.00773965, ..., 0.98284546, 1.01931284,\n",
              "        0.97635877],\n",
              "       [0.97837311, 1.00254739, 1.01021477, ..., 0.98001088, 1.01962014,\n",
              "        0.98005769],\n",
              "       [0.98517797, 1.00317917, 1.00838135, ..., 0.97801831, 1.014857  ,\n",
              "        0.98409787],\n",
              "       ...,\n",
              "       [1.00336706, 0.99352193, 0.99719749, ..., 1.01703821, 0.98535623,\n",
              "        1.01071683],\n",
              "       [1.00368091, 0.99460499, 0.9996726 , ..., 1.02078801, 0.98489528,\n",
              "        1.0086472 ],\n",
              "       [1.00276789, 0.99361219, 1.00022263, ..., 1.022995  , 0.98781463,\n",
              "        1.01016639]])"
            ]
          },
          "metadata": {
            "tags": []
          },
          "execution_count": 7
        }
      ]
    },
    {
      "cell_type": "code",
      "metadata": {
        "id": "eKIfHEqOfTzR",
        "colab_type": "code",
        "outputId": "9b2902de-c838-4d25-ed98-92a5e1031462",
        "colab": {
          "base_uri": "https://localhost:8080/",
          "height": 69
        }
      },
      "source": [
        "Y"
      ],
      "execution_count": 8,
      "outputs": [
        {
          "output_type": "execute_result",
          "data": {
            "text/plain": [
              "array([0., 0., 0., 0., 0., 1., 1., 1., 0., 1., 1., 1., 1., 1., 1., 1., 0.,\n",
              "       0., 0., 0., 0., 0., 0., 0., 0., 0., 0., 0., 0., 1., 0., 0., 0., 0.,\n",
              "       0., 0., 1., 1., 1., 1., 1., 1., 1., 1., 1., 1., 1., 1., 1.])"
            ]
          },
          "metadata": {
            "tags": []
          },
          "execution_count": 8
        }
      ]
    },
    {
      "cell_type": "code",
      "metadata": {
        "id": "ydsfY1E2eqoy",
        "colab_type": "code",
        "colab": {}
      },
      "source": [
        "# create model\n",
        "model = Sequential()\n",
        "model.add(Dense(24, input_dim=24, kernel_initializer='uniform', activation='relu'))\n",
        "model.add(Dense(24, kernel_initializer='uniform', activation='relu'))\n",
        "model.add(Dense(1, kernel_initializer='uniform', activation='sigmoid'))"
      ],
      "execution_count": 0,
      "outputs": []
    },
    {
      "cell_type": "code",
      "metadata": {
        "id": "mzgAC0seeu19",
        "colab_type": "code",
        "outputId": "c12aecee-f41c-4218-f9e0-9025a0c8c9d7",
        "colab": {
          "base_uri": "https://localhost:8080/",
          "height": 1000
        }
      },
      "source": [
        "# Compile model\n",
        "model.compile(loss='binary_crossentropy', optimizer='adam', metrics=['accuracy'])\n",
        "# Fit the model\n",
        "history = model.fit(X, Y, validation_split=0.33, epochs=150, batch_size=10)\n",
        "# list all data in history\n",
        "print(history.history.keys())"
      ],
      "execution_count": 12,
      "outputs": [
        {
          "output_type": "stream",
          "text": [
            "WARNING:tensorflow:From /usr/local/lib/python3.6/dist-packages/keras/backend/tensorflow_backend.py:1033: The name tf.assign_add is deprecated. Please use tf.compat.v1.assign_add instead.\n",
            "\n",
            "WARNING:tensorflow:From /usr/local/lib/python3.6/dist-packages/keras/backend/tensorflow_backend.py:1020: The name tf.assign is deprecated. Please use tf.compat.v1.assign instead.\n",
            "\n",
            "WARNING:tensorflow:From /usr/local/lib/python3.6/dist-packages/keras/backend/tensorflow_backend.py:3005: The name tf.Session is deprecated. Please use tf.compat.v1.Session instead.\n",
            "\n",
            "Train on 32 samples, validate on 17 samples\n",
            "Epoch 1/150\n",
            "WARNING:tensorflow:From /usr/local/lib/python3.6/dist-packages/keras/backend/tensorflow_backend.py:190: The name tf.get_default_session is deprecated. Please use tf.compat.v1.get_default_session instead.\n",
            "\n",
            "WARNING:tensorflow:From /usr/local/lib/python3.6/dist-packages/keras/backend/tensorflow_backend.py:197: The name tf.ConfigProto is deprecated. Please use tf.compat.v1.ConfigProto instead.\n",
            "\n",
            "WARNING:tensorflow:From /usr/local/lib/python3.6/dist-packages/keras/backend/tensorflow_backend.py:207: The name tf.global_variables is deprecated. Please use tf.compat.v1.global_variables instead.\n",
            "\n",
            "WARNING:tensorflow:From /usr/local/lib/python3.6/dist-packages/keras/backend/tensorflow_backend.py:216: The name tf.is_variable_initialized is deprecated. Please use tf.compat.v1.is_variable_initialized instead.\n",
            "\n",
            "WARNING:tensorflow:From /usr/local/lib/python3.6/dist-packages/keras/backend/tensorflow_backend.py:223: The name tf.variables_initializer is deprecated. Please use tf.compat.v1.variables_initializer instead.\n",
            "\n",
            "32/32 [==============================] - 1s 25ms/step - loss: 0.6928 - acc: 0.6563 - val_loss: 0.6947 - val_acc: 0.2353\n",
            "Epoch 2/150\n",
            "32/32 [==============================] - 0s 390us/step - loss: 0.6922 - acc: 0.6562 - val_loss: 0.6951 - val_acc: 0.2353\n",
            "Epoch 3/150\n",
            "32/32 [==============================] - 0s 496us/step - loss: 0.6920 - acc: 0.6562 - val_loss: 0.6955 - val_acc: 0.2353\n",
            "Epoch 4/150\n",
            "32/32 [==============================] - 0s 476us/step - loss: 0.6917 - acc: 0.6562 - val_loss: 0.6962 - val_acc: 0.2353\n",
            "Epoch 5/150\n",
            "32/32 [==============================] - 0s 478us/step - loss: 0.6914 - acc: 0.6562 - val_loss: 0.6972 - val_acc: 0.2353\n",
            "Epoch 6/150\n",
            "32/32 [==============================] - 0s 611us/step - loss: 0.6907 - acc: 0.6562 - val_loss: 0.6979 - val_acc: 0.2353\n",
            "Epoch 7/150\n",
            "32/32 [==============================] - 0s 547us/step - loss: 0.6902 - acc: 0.6562 - val_loss: 0.6990 - val_acc: 0.2353\n",
            "Epoch 8/150\n",
            "32/32 [==============================] - 0s 469us/step - loss: 0.6895 - acc: 0.6562 - val_loss: 0.7008 - val_acc: 0.2353\n",
            "Epoch 9/150\n",
            "32/32 [==============================] - 0s 461us/step - loss: 0.6883 - acc: 0.6563 - val_loss: 0.7034 - val_acc: 0.2353\n",
            "Epoch 10/150\n",
            "32/32 [==============================] - 0s 515us/step - loss: 0.6867 - acc: 0.6562 - val_loss: 0.7077 - val_acc: 0.2353\n",
            "Epoch 11/150\n",
            "32/32 [==============================] - 0s 337us/step - loss: 0.6847 - acc: 0.6562 - val_loss: 0.7135 - val_acc: 0.2353\n",
            "Epoch 12/150\n",
            "32/32 [==============================] - 0s 451us/step - loss: 0.6815 - acc: 0.6562 - val_loss: 0.7213 - val_acc: 0.2353\n",
            "Epoch 13/150\n",
            "32/32 [==============================] - 0s 620us/step - loss: 0.6769 - acc: 0.6563 - val_loss: 0.7311 - val_acc: 0.2353\n",
            "Epoch 14/150\n",
            "32/32 [==============================] - 0s 461us/step - loss: 0.6739 - acc: 0.6563 - val_loss: 0.7454 - val_acc: 0.2353\n",
            "Epoch 15/150\n",
            "32/32 [==============================] - 0s 499us/step - loss: 0.6670 - acc: 0.6563 - val_loss: 0.7609 - val_acc: 0.2353\n",
            "Epoch 16/150\n",
            "32/32 [==============================] - 0s 461us/step - loss: 0.6631 - acc: 0.6562 - val_loss: 0.7827 - val_acc: 0.2353\n",
            "Epoch 17/150\n",
            "32/32 [==============================] - 0s 449us/step - loss: 0.6559 - acc: 0.6563 - val_loss: 0.8020 - val_acc: 0.2353\n",
            "Epoch 18/150\n",
            "32/32 [==============================] - 0s 424us/step - loss: 0.6529 - acc: 0.6562 - val_loss: 0.8303 - val_acc: 0.2353\n",
            "Epoch 19/150\n",
            "32/32 [==============================] - 0s 352us/step - loss: 0.6501 - acc: 0.6562 - val_loss: 0.8618 - val_acc: 0.2353\n",
            "Epoch 20/150\n",
            "32/32 [==============================] - 0s 386us/step - loss: 0.6454 - acc: 0.6562 - val_loss: 0.8824 - val_acc: 0.2353\n",
            "Epoch 21/150\n",
            "32/32 [==============================] - 0s 444us/step - loss: 0.6467 - acc: 0.6563 - val_loss: 0.8984 - val_acc: 0.2353\n",
            "Epoch 22/150\n",
            "32/32 [==============================] - 0s 428us/step - loss: 0.6446 - acc: 0.6563 - val_loss: 0.9003 - val_acc: 0.2353\n",
            "Epoch 23/150\n",
            "32/32 [==============================] - 0s 604us/step - loss: 0.6449 - acc: 0.6563 - val_loss: 0.9193 - val_acc: 0.2353\n",
            "Epoch 24/150\n",
            "32/32 [==============================] - 0s 415us/step - loss: 0.6454 - acc: 0.6563 - val_loss: 0.9344 - val_acc: 0.2353\n",
            "Epoch 25/150\n",
            "32/32 [==============================] - 0s 485us/step - loss: 0.6454 - acc: 0.6563 - val_loss: 0.9247 - val_acc: 0.2353\n",
            "Epoch 26/150\n",
            "32/32 [==============================] - 0s 404us/step - loss: 0.6441 - acc: 0.6562 - val_loss: 0.9276 - val_acc: 0.2353\n",
            "Epoch 27/150\n",
            "32/32 [==============================] - 0s 387us/step - loss: 0.6448 - acc: 0.6563 - val_loss: 0.9412 - val_acc: 0.2353\n",
            "Epoch 28/150\n",
            "32/32 [==============================] - 0s 496us/step - loss: 0.6455 - acc: 0.6562 - val_loss: 0.9545 - val_acc: 0.2353\n",
            "Epoch 29/150\n",
            "32/32 [==============================] - 0s 602us/step - loss: 0.6453 - acc: 0.6563 - val_loss: 0.9559 - val_acc: 0.2353\n",
            "Epoch 30/150\n",
            "32/32 [==============================] - 0s 394us/step - loss: 0.6451 - acc: 0.6563 - val_loss: 0.9478 - val_acc: 0.2353\n",
            "Epoch 31/150\n",
            "32/32 [==============================] - 0s 488us/step - loss: 0.6442 - acc: 0.6562 - val_loss: 0.9365 - val_acc: 0.2353\n",
            "Epoch 32/150\n",
            "32/32 [==============================] - 0s 653us/step - loss: 0.6431 - acc: 0.6562 - val_loss: 0.9143 - val_acc: 0.2353\n",
            "Epoch 33/150\n",
            "32/32 [==============================] - 0s 397us/step - loss: 0.6429 - acc: 0.6563 - val_loss: 0.8919 - val_acc: 0.2353\n",
            "Epoch 34/150\n",
            "32/32 [==============================] - 0s 504us/step - loss: 0.6459 - acc: 0.6563 - val_loss: 0.8762 - val_acc: 0.2353\n",
            "Epoch 35/150\n",
            "32/32 [==============================] - 0s 458us/step - loss: 0.6451 - acc: 0.6563 - val_loss: 0.8740 - val_acc: 0.2353\n",
            "Epoch 36/150\n",
            "32/32 [==============================] - 0s 540us/step - loss: 0.6454 - acc: 0.6563 - val_loss: 0.8782 - val_acc: 0.2353\n",
            "Epoch 37/150\n",
            "32/32 [==============================] - 0s 523us/step - loss: 0.6454 - acc: 0.6563 - val_loss: 0.8794 - val_acc: 0.2353\n",
            "Epoch 38/150\n",
            "32/32 [==============================] - 0s 409us/step - loss: 0.6448 - acc: 0.6562 - val_loss: 0.8749 - val_acc: 0.2353\n",
            "Epoch 39/150\n",
            "32/32 [==============================] - 0s 819us/step - loss: 0.6455 - acc: 0.6562 - val_loss: 0.8751 - val_acc: 0.2353\n",
            "Epoch 40/150\n",
            "32/32 [==============================] - 0s 541us/step - loss: 0.6451 - acc: 0.6563 - val_loss: 0.8820 - val_acc: 0.2353\n",
            "Epoch 41/150\n",
            "32/32 [==============================] - 0s 517us/step - loss: 0.6447 - acc: 0.6562 - val_loss: 0.8857 - val_acc: 0.2353\n",
            "Epoch 42/150\n",
            "32/32 [==============================] - 0s 690us/step - loss: 0.6447 - acc: 0.6563 - val_loss: 0.8891 - val_acc: 0.2353\n",
            "Epoch 43/150\n",
            "32/32 [==============================] - 0s 849us/step - loss: 0.6443 - acc: 0.6562 - val_loss: 0.8944 - val_acc: 0.2353\n",
            "Epoch 44/150\n",
            "32/32 [==============================] - 0s 579us/step - loss: 0.6447 - acc: 0.6563 - val_loss: 0.9008 - val_acc: 0.2353\n",
            "Epoch 45/150\n",
            "32/32 [==============================] - 0s 572us/step - loss: 0.6439 - acc: 0.6563 - val_loss: 0.9063 - val_acc: 0.2353\n",
            "Epoch 46/150\n",
            "32/32 [==============================] - 0s 600us/step - loss: 0.6441 - acc: 0.6563 - val_loss: 0.9096 - val_acc: 0.2353\n",
            "Epoch 47/150\n",
            "32/32 [==============================] - 0s 479us/step - loss: 0.6441 - acc: 0.6562 - val_loss: 0.9107 - val_acc: 0.2353\n",
            "Epoch 48/150\n",
            "32/32 [==============================] - 0s 543us/step - loss: 0.6441 - acc: 0.6562 - val_loss: 0.9163 - val_acc: 0.2353\n",
            "Epoch 49/150\n",
            "32/32 [==============================] - 0s 609us/step - loss: 0.6440 - acc: 0.6563 - val_loss: 0.9191 - val_acc: 0.2353\n",
            "Epoch 50/150\n",
            "32/32 [==============================] - 0s 498us/step - loss: 0.6440 - acc: 0.6562 - val_loss: 0.9235 - val_acc: 0.2353\n",
            "Epoch 51/150\n",
            "32/32 [==============================] - 0s 461us/step - loss: 0.6442 - acc: 0.6563 - val_loss: 0.9225 - val_acc: 0.2353\n",
            "Epoch 52/150\n",
            "32/32 [==============================] - 0s 415us/step - loss: 0.6441 - acc: 0.6563 - val_loss: 0.9136 - val_acc: 0.2353\n",
            "Epoch 53/150\n",
            "32/32 [==============================] - 0s 478us/step - loss: 0.6442 - acc: 0.6563 - val_loss: 0.9138 - val_acc: 0.2353\n",
            "Epoch 54/150\n",
            "32/32 [==============================] - 0s 502us/step - loss: 0.6441 - acc: 0.6563 - val_loss: 0.9182 - val_acc: 0.2353\n",
            "Epoch 55/150\n",
            "32/32 [==============================] - 0s 458us/step - loss: 0.6442 - acc: 0.6563 - val_loss: 0.9200 - val_acc: 0.2353\n",
            "Epoch 56/150\n",
            "32/32 [==============================] - 0s 515us/step - loss: 0.6446 - acc: 0.6563 - val_loss: 0.9281 - val_acc: 0.2353\n",
            "Epoch 57/150\n",
            "32/32 [==============================] - 0s 518us/step - loss: 0.6441 - acc: 0.6562 - val_loss: 0.9358 - val_acc: 0.2353\n",
            "Epoch 58/150\n",
            "32/32 [==============================] - 0s 417us/step - loss: 0.6443 - acc: 0.6562 - val_loss: 0.9390 - val_acc: 0.2353\n",
            "Epoch 59/150\n",
            "32/32 [==============================] - 0s 441us/step - loss: 0.6444 - acc: 0.6562 - val_loss: 0.9445 - val_acc: 0.2353\n",
            "Epoch 60/150\n",
            "32/32 [==============================] - 0s 406us/step - loss: 0.6447 - acc: 0.6563 - val_loss: 0.9405 - val_acc: 0.2353\n",
            "Epoch 61/150\n",
            "32/32 [==============================] - 0s 442us/step - loss: 0.6453 - acc: 0.6563 - val_loss: 0.9277 - val_acc: 0.2353\n",
            "Epoch 62/150\n",
            "32/32 [==============================] - 0s 489us/step - loss: 0.6441 - acc: 0.6563 - val_loss: 0.9238 - val_acc: 0.2353\n",
            "Epoch 63/150\n",
            "32/32 [==============================] - 0s 518us/step - loss: 0.6439 - acc: 0.6563 - val_loss: 0.9106 - val_acc: 0.2353\n",
            "Epoch 64/150\n",
            "32/32 [==============================] - 0s 619us/step - loss: 0.6450 - acc: 0.6563 - val_loss: 0.8967 - val_acc: 0.2353\n",
            "Epoch 65/150\n",
            "32/32 [==============================] - 0s 617us/step - loss: 0.6439 - acc: 0.6562 - val_loss: 0.8832 - val_acc: 0.2353\n",
            "Epoch 66/150\n",
            "32/32 [==============================] - 0s 536us/step - loss: 0.6447 - acc: 0.6562 - val_loss: 0.8752 - val_acc: 0.2353\n",
            "Epoch 67/150\n",
            "32/32 [==============================] - 0s 454us/step - loss: 0.6451 - acc: 0.6563 - val_loss: 0.8754 - val_acc: 0.2353\n",
            "Epoch 68/150\n",
            "32/32 [==============================] - 0s 500us/step - loss: 0.6451 - acc: 0.6563 - val_loss: 0.8798 - val_acc: 0.2353\n",
            "Epoch 69/150\n",
            "32/32 [==============================] - 0s 405us/step - loss: 0.6447 - acc: 0.6563 - val_loss: 0.8827 - val_acc: 0.2353\n",
            "Epoch 70/150\n",
            "32/32 [==============================] - 0s 439us/step - loss: 0.6446 - acc: 0.6563 - val_loss: 0.8913 - val_acc: 0.2353\n",
            "Epoch 71/150\n",
            "32/32 [==============================] - 0s 452us/step - loss: 0.6438 - acc: 0.6563 - val_loss: 0.9023 - val_acc: 0.2353\n",
            "Epoch 72/150\n",
            "32/32 [==============================] - 0s 408us/step - loss: 0.6440 - acc: 0.6563 - val_loss: 0.9167 - val_acc: 0.2353\n",
            "Epoch 73/150\n",
            "32/32 [==============================] - 0s 466us/step - loss: 0.6442 - acc: 0.6563 - val_loss: 0.9279 - val_acc: 0.2353\n",
            "Epoch 74/150\n",
            "32/32 [==============================] - 0s 528us/step - loss: 0.6442 - acc: 0.6562 - val_loss: 0.9271 - val_acc: 0.2353\n",
            "Epoch 75/150\n",
            "32/32 [==============================] - 0s 447us/step - loss: 0.6441 - acc: 0.6562 - val_loss: 0.9300 - val_acc: 0.2353\n",
            "Epoch 76/150\n",
            "32/32 [==============================] - 0s 488us/step - loss: 0.6444 - acc: 0.6563 - val_loss: 0.9285 - val_acc: 0.2353\n",
            "Epoch 77/150\n",
            "32/32 [==============================] - 0s 349us/step - loss: 0.6442 - acc: 0.6562 - val_loss: 0.9156 - val_acc: 0.2353\n",
            "Epoch 78/150\n",
            "32/32 [==============================] - 0s 348us/step - loss: 0.6444 - acc: 0.6562 - val_loss: 0.9046 - val_acc: 0.2353\n",
            "Epoch 79/150\n",
            "32/32 [==============================] - 0s 430us/step - loss: 0.6444 - acc: 0.6563 - val_loss: 0.8957 - val_acc: 0.2353\n",
            "Epoch 80/150\n",
            "32/32 [==============================] - 0s 446us/step - loss: 0.6454 - acc: 0.6563 - val_loss: 0.8889 - val_acc: 0.2353\n",
            "Epoch 81/150\n",
            "32/32 [==============================] - 0s 341us/step - loss: 0.6445 - acc: 0.6563 - val_loss: 0.8925 - val_acc: 0.2353\n",
            "Epoch 82/150\n",
            "32/32 [==============================] - 0s 342us/step - loss: 0.6443 - acc: 0.6562 - val_loss: 0.8982 - val_acc: 0.2353\n",
            "Epoch 83/150\n",
            "32/32 [==============================] - 0s 431us/step - loss: 0.6443 - acc: 0.6563 - val_loss: 0.9029 - val_acc: 0.2353\n",
            "Epoch 84/150\n",
            "32/32 [==============================] - 0s 453us/step - loss: 0.6443 - acc: 0.6563 - val_loss: 0.9079 - val_acc: 0.2353\n",
            "Epoch 85/150\n",
            "32/32 [==============================] - 0s 567us/step - loss: 0.6441 - acc: 0.6563 - val_loss: 0.9010 - val_acc: 0.2353\n",
            "Epoch 86/150\n",
            "32/32 [==============================] - 0s 362us/step - loss: 0.6443 - acc: 0.6562 - val_loss: 0.8894 - val_acc: 0.2353\n",
            "Epoch 87/150\n",
            "32/32 [==============================] - 0s 437us/step - loss: 0.6451 - acc: 0.6562 - val_loss: 0.8803 - val_acc: 0.2353\n",
            "Epoch 88/150\n",
            "32/32 [==============================] - 0s 357us/step - loss: 0.6453 - acc: 0.6562 - val_loss: 0.8737 - val_acc: 0.2353\n",
            "Epoch 89/150\n",
            "32/32 [==============================] - 0s 499us/step - loss: 0.6460 - acc: 0.6563 - val_loss: 0.8697 - val_acc: 0.2353\n",
            "Epoch 90/150\n",
            "32/32 [==============================] - 0s 480us/step - loss: 0.6455 - acc: 0.6563 - val_loss: 0.8716 - val_acc: 0.2353\n",
            "Epoch 91/150\n",
            "32/32 [==============================] - 0s 563us/step - loss: 0.6454 - acc: 0.6562 - val_loss: 0.8675 - val_acc: 0.2353\n",
            "Epoch 92/150\n",
            "32/32 [==============================] - 0s 500us/step - loss: 0.6455 - acc: 0.6563 - val_loss: 0.8655 - val_acc: 0.2353\n",
            "Epoch 93/150\n",
            "32/32 [==============================] - 0s 639us/step - loss: 0.6457 - acc: 0.6563 - val_loss: 0.8647 - val_acc: 0.2353\n",
            "Epoch 94/150\n",
            "32/32 [==============================] - 0s 552us/step - loss: 0.6460 - acc: 0.6562 - val_loss: 0.8706 - val_acc: 0.2353\n",
            "Epoch 95/150\n",
            "32/32 [==============================] - 0s 529us/step - loss: 0.6453 - acc: 0.6562 - val_loss: 0.8797 - val_acc: 0.2353\n",
            "Epoch 96/150\n",
            "32/32 [==============================] - 0s 442us/step - loss: 0.6454 - acc: 0.6562 - val_loss: 0.8904 - val_acc: 0.2353\n",
            "Epoch 97/150\n",
            "32/32 [==============================] - 0s 419us/step - loss: 0.6441 - acc: 0.6563 - val_loss: 0.8958 - val_acc: 0.2353\n",
            "Epoch 98/150\n",
            "32/32 [==============================] - 0s 517us/step - loss: 0.6443 - acc: 0.6562 - val_loss: 0.9051 - val_acc: 0.2353\n",
            "Epoch 99/150\n",
            "32/32 [==============================] - 0s 439us/step - loss: 0.6440 - acc: 0.6562 - val_loss: 0.9085 - val_acc: 0.2353\n",
            "Epoch 100/150\n",
            "32/32 [==============================] - 0s 399us/step - loss: 0.6440 - acc: 0.6562 - val_loss: 0.9091 - val_acc: 0.2353\n",
            "Epoch 101/150\n",
            "32/32 [==============================] - 0s 403us/step - loss: 0.6443 - acc: 0.6562 - val_loss: 0.9059 - val_acc: 0.2353\n",
            "Epoch 102/150\n",
            "32/32 [==============================] - 0s 414us/step - loss: 0.6441 - acc: 0.6562 - val_loss: 0.9048 - val_acc: 0.2353\n",
            "Epoch 103/150\n",
            "32/32 [==============================] - 0s 363us/step - loss: 0.6440 - acc: 0.6563 - val_loss: 0.9068 - val_acc: 0.2353\n",
            "Epoch 104/150\n",
            "32/32 [==============================] - 0s 402us/step - loss: 0.6441 - acc: 0.6562 - val_loss: 0.9082 - val_acc: 0.2353\n",
            "Epoch 105/150\n",
            "32/32 [==============================] - 0s 439us/step - loss: 0.6441 - acc: 0.6563 - val_loss: 0.9090 - val_acc: 0.2353\n",
            "Epoch 106/150\n",
            "32/32 [==============================] - 0s 620us/step - loss: 0.6439 - acc: 0.6563 - val_loss: 0.9136 - val_acc: 0.2353\n",
            "Epoch 107/150\n",
            "32/32 [==============================] - 0s 415us/step - loss: 0.6440 - acc: 0.6563 - val_loss: 0.9234 - val_acc: 0.2353\n",
            "Epoch 108/150\n",
            "32/32 [==============================] - 0s 456us/step - loss: 0.6436 - acc: 0.6563 - val_loss: 0.9346 - val_acc: 0.2353\n",
            "Epoch 109/150\n",
            "32/32 [==============================] - 0s 334us/step - loss: 0.6440 - acc: 0.6562 - val_loss: 0.9457 - val_acc: 0.2353\n",
            "Epoch 110/150\n",
            "32/32 [==============================] - 0s 376us/step - loss: 0.6456 - acc: 0.6563 - val_loss: 0.9518 - val_acc: 0.2353\n",
            "Epoch 111/150\n",
            "32/32 [==============================] - 0s 483us/step - loss: 0.6449 - acc: 0.6563 - val_loss: 0.9495 - val_acc: 0.2353\n",
            "Epoch 112/150\n",
            "32/32 [==============================] - 0s 591us/step - loss: 0.6452 - acc: 0.6563 - val_loss: 0.9508 - val_acc: 0.2353\n",
            "Epoch 113/150\n",
            "32/32 [==============================] - 0s 404us/step - loss: 0.6448 - acc: 0.6563 - val_loss: 0.9402 - val_acc: 0.2353\n",
            "Epoch 114/150\n",
            "32/32 [==============================] - 0s 436us/step - loss: 0.6443 - acc: 0.6562 - val_loss: 0.9365 - val_acc: 0.2353\n",
            "Epoch 115/150\n",
            "32/32 [==============================] - 0s 480us/step - loss: 0.6441 - acc: 0.6562 - val_loss: 0.9317 - val_acc: 0.2353\n",
            "Epoch 116/150\n",
            "32/32 [==============================] - 0s 489us/step - loss: 0.6443 - acc: 0.6562 - val_loss: 0.9250 - val_acc: 0.2353\n",
            "Epoch 117/150\n",
            "32/32 [==============================] - 0s 458us/step - loss: 0.6444 - acc: 0.6563 - val_loss: 0.9242 - val_acc: 0.2353\n",
            "Epoch 118/150\n",
            "32/32 [==============================] - 0s 458us/step - loss: 0.6443 - acc: 0.6562 - val_loss: 0.9301 - val_acc: 0.2353\n",
            "Epoch 119/150\n",
            "32/32 [==============================] - 0s 723us/step - loss: 0.6443 - acc: 0.6563 - val_loss: 0.9310 - val_acc: 0.2353\n",
            "Epoch 120/150\n",
            "32/32 [==============================] - 0s 629us/step - loss: 0.6441 - acc: 0.6563 - val_loss: 0.9271 - val_acc: 0.2353\n",
            "Epoch 121/150\n",
            "32/32 [==============================] - 0s 532us/step - loss: 0.6439 - acc: 0.6562 - val_loss: 0.9227 - val_acc: 0.2353\n",
            "Epoch 122/150\n",
            "32/32 [==============================] - 0s 364us/step - loss: 0.6440 - acc: 0.6563 - val_loss: 0.9132 - val_acc: 0.2353\n",
            "Epoch 123/150\n",
            "32/32 [==============================] - 0s 382us/step - loss: 0.6432 - acc: 0.6563 - val_loss: 0.8985 - val_acc: 0.2353\n",
            "Epoch 124/150\n",
            "32/32 [==============================] - 0s 368us/step - loss: 0.6440 - acc: 0.6562 - val_loss: 0.8835 - val_acc: 0.2353\n",
            "Epoch 125/150\n",
            "32/32 [==============================] - 0s 593us/step - loss: 0.6445 - acc: 0.6562 - val_loss: 0.8781 - val_acc: 0.2353\n",
            "Epoch 126/150\n",
            "32/32 [==============================] - 0s 579us/step - loss: 0.6449 - acc: 0.6563 - val_loss: 0.8750 - val_acc: 0.2353\n",
            "Epoch 127/150\n",
            "32/32 [==============================] - 0s 826us/step - loss: 0.6453 - acc: 0.6562 - val_loss: 0.8782 - val_acc: 0.2353\n",
            "Epoch 128/150\n",
            "32/32 [==============================] - 0s 617us/step - loss: 0.6450 - acc: 0.6562 - val_loss: 0.8789 - val_acc: 0.2353\n",
            "Epoch 129/150\n",
            "32/32 [==============================] - 0s 476us/step - loss: 0.6448 - acc: 0.6563 - val_loss: 0.8848 - val_acc: 0.2353\n",
            "Epoch 130/150\n",
            "32/32 [==============================] - 0s 545us/step - loss: 0.6444 - acc: 0.6563 - val_loss: 0.8888 - val_acc: 0.2353\n",
            "Epoch 131/150\n",
            "32/32 [==============================] - 0s 593us/step - loss: 0.6442 - acc: 0.6562 - val_loss: 0.8974 - val_acc: 0.2353\n",
            "Epoch 132/150\n",
            "32/32 [==============================] - 0s 542us/step - loss: 0.6458 - acc: 0.6562 - val_loss: 0.9097 - val_acc: 0.2353\n",
            "Epoch 133/150\n",
            "32/32 [==============================] - 0s 462us/step - loss: 0.6440 - acc: 0.6562 - val_loss: 0.9126 - val_acc: 0.2353\n",
            "Epoch 134/150\n",
            "32/32 [==============================] - 0s 332us/step - loss: 0.6443 - acc: 0.6563 - val_loss: 0.9126 - val_acc: 0.2353\n",
            "Epoch 135/150\n",
            "32/32 [==============================] - 0s 371us/step - loss: 0.6435 - acc: 0.6562 - val_loss: 0.9041 - val_acc: 0.2353\n",
            "Epoch 136/150\n",
            "32/32 [==============================] - 0s 442us/step - loss: 0.6440 - acc: 0.6563 - val_loss: 0.8976 - val_acc: 0.2353\n",
            "Epoch 137/150\n",
            "32/32 [==============================] - 0s 537us/step - loss: 0.6442 - acc: 0.6562 - val_loss: 0.8973 - val_acc: 0.2353\n",
            "Epoch 138/150\n",
            "32/32 [==============================] - 0s 440us/step - loss: 0.6441 - acc: 0.6562 - val_loss: 0.8940 - val_acc: 0.2353\n",
            "Epoch 139/150\n",
            "32/32 [==============================] - 0s 538us/step - loss: 0.6442 - acc: 0.6562 - val_loss: 0.8848 - val_acc: 0.2353\n",
            "Epoch 140/150\n",
            "32/32 [==============================] - 0s 429us/step - loss: 0.6448 - acc: 0.6563 - val_loss: 0.8790 - val_acc: 0.2353\n",
            "Epoch 141/150\n",
            "32/32 [==============================] - 0s 413us/step - loss: 0.6448 - acc: 0.6562 - val_loss: 0.8816 - val_acc: 0.2353\n",
            "Epoch 142/150\n",
            "32/32 [==============================] - 0s 354us/step - loss: 0.6454 - acc: 0.6562 - val_loss: 0.8867 - val_acc: 0.2353\n",
            "Epoch 143/150\n",
            "32/32 [==============================] - 0s 532us/step - loss: 0.6457 - acc: 0.6563 - val_loss: 0.8821 - val_acc: 0.2353\n",
            "Epoch 144/150\n",
            "32/32 [==============================] - 0s 431us/step - loss: 0.6446 - acc: 0.6562 - val_loss: 0.8846 - val_acc: 0.2353\n",
            "Epoch 145/150\n",
            "32/32 [==============================] - 0s 378us/step - loss: 0.6446 - acc: 0.6563 - val_loss: 0.8883 - val_acc: 0.2353\n",
            "Epoch 146/150\n",
            "32/32 [==============================] - 0s 384us/step - loss: 0.6441 - acc: 0.6563 - val_loss: 0.8949 - val_acc: 0.2353\n",
            "Epoch 147/150\n",
            "32/32 [==============================] - 0s 379us/step - loss: 0.6443 - acc: 0.6563 - val_loss: 0.9022 - val_acc: 0.2353\n",
            "Epoch 148/150\n",
            "32/32 [==============================] - 0s 436us/step - loss: 0.6442 - acc: 0.6562 - val_loss: 0.9015 - val_acc: 0.2353\n",
            "Epoch 149/150\n",
            "32/32 [==============================] - 0s 583us/step - loss: 0.6442 - acc: 0.6563 - val_loss: 0.8989 - val_acc: 0.2353\n",
            "Epoch 150/150\n",
            "32/32 [==============================] - 0s 681us/step - loss: 0.6440 - acc: 0.6563 - val_loss: 0.9024 - val_acc: 0.2353\n",
            "dict_keys(['val_loss', 'val_acc', 'loss', 'acc'])\n"
          ],
          "name": "stdout"
        }
      ]
    },
    {
      "cell_type": "code",
      "metadata": {
        "id": "xA0cQQd8cOs6",
        "colab_type": "code",
        "outputId": "ad3c95d9-2a11-4388-df40-6a4caf08e67e",
        "colab": {
          "base_uri": "https://localhost:8080/",
          "height": 573
        }
      },
      "source": [
        "# summarize history for accuracy\n",
        "plt.plot(history.history['acc'])\n",
        "plt.plot(history.history['val_acc'])\n",
        "plt.title('model accuracy')\n",
        "plt.ylabel('accuracy')\n",
        "plt.xlabel('epoch')\n",
        "plt.legend(['train', 'test'], loc='upper left')\n",
        "plt.show()\n",
        "# summarize history for loss\n",
        "plt.plot(history.history['loss'])\n",
        "plt.plot(history.history['val_loss'])\n",
        "plt.title('model loss')\n",
        "plt.ylabel('loss')\n",
        "plt.xlabel('epoch')\n",
        "plt.legend(['train', 'test'], loc='upper left')\n",
        "plt.show()"
      ],
      "execution_count": 13,
      "outputs": [
        {
          "output_type": "display_data",
          "data": {
            "image/png": "[encoded data removed]",
            "text/plain": [
              "<Figure size 432x288 with 1 Axes>"
            ]
          },
          "metadata": {
            "tags": []
          }
        },
        {
          "output_type": "display_data",
          "data": {
            "image/png": "[encoded data removed]",
            "text/plain": [
              "<Figure size 432x288 with 1 Axes>"
            ]
          },
          "metadata": {
            "tags": []
          }
        }
      ]
    }
  ]
}