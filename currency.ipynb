{
  "nbformat": 4,
  "nbformat_minor": 0,
  "metadata": {
    "colab": {
      "name": "diabetes-pandas.ipynb",
      "provenance": [],
      "collapsed_sections": [],
      "include_colab_link": true
    },
    "kernelspec": {
      "name": "python3",
      "display_name": "Python 3"
    }
  },
  "cells": [
    {
      "cell_type": "markdown",
      "metadata": {
        "id": "view-in-github",
        "colab_type": "text"
      },
      "source": [
        "<a href=\"https://colab.research.google.com/github/ckraju/kvasu/blob/master/currency.ipynb\" target=\"_parent\"><img src=\"https://colab.research.google.com/assets/colab-badge.svg\" alt=\"Open In Colab\"/></a>"
      ]
    },
    {
      "cell_type": "code",
      "metadata": {
        "id": "ZYUuODpIbHpu",
        "colab_type": "code",
        "outputId": "60cf9deb-d771-4b21-ad78-128f58dc9372",
        "colab": {
          "resources": {
            "http://localhost:8080/nbextensions/google.colab/files.js": {
              "data": "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",
              "ok": true,
              "headers": [
                [
                  "content-type",
                  "application/javascript"
                ]
              ],
              "status": 200,
              "status_text": "OK"
            }
          },
          "base_uri": "https://localhost:8080/",
          "height": 75
        }
      },
      "source": [
        "from google.colab import files\n",
        "uploaded = files.upload()"
      ],
      "execution_count": 1,
      "outputs": [
        {
          "output_type": "display_data",
          "data": {
            "text/html": [
              "\n",
              "     <input type=\"file\" id=\"files-6f9a4aaa-7523-4040-af38-926eebd14cdd\" name=\"files[]\" multiple disabled />\n",
              "     <output id=\"result-6f9a4aaa-7523-4040-af38-926eebd14cdd\">\n",
              "      Upload widget is only available when the cell has been executed in the\n",
              "      current browser session. Please rerun this cell to enable.\n",
              "      </output>\n",
              "      <script src=\"/nbextensions/google.colab/files.js\"></script> "
            ],
            "text/plain": [
              "<IPython.core.display.HTML object>"
            ]
          },
          "metadata": {
            "tags": []
          }
        },
        {
          "output_type": "stream",
          "text": [
            "Saving train.csv to train.csv\n"
          ],
          "name": "stdout"
        }
      ]
    },
    {
      "cell_type": "code",
      "metadata": {
        "id": "vZbF5toObZ4t",
        "colab_type": "code",
        "colab": {}
      },
      "source": [
        "import pandas as pd\n"
      ],
      "execution_count": 0,
      "outputs": []
    },
    {
      "cell_type": "code",
      "metadata": {
        "id": "DAIabSxIbcrT",
        "colab_type": "code",
        "colab": {}
      },
      "source": [
        "import io\n",
        "\n",
        "df2 = pd.read_csv(io.BytesIO(uploaded['train.csv']))\n",
        "\n",
        "# Dataset is now stored in a Pandas Dataframe"
      ],
      "execution_count": 0,
      "outputs": []
    },
    {
      "cell_type": "markdown",
      "metadata": {
        "id": "UtpPyoEKch6B",
        "colab_type": "text"
      },
      "source": [
        ""
      ]
    },
    {
      "cell_type": "code",
      "metadata": {
        "id": "Ai24xiVNelLZ",
        "colab_type": "code",
        "outputId": "b4a19a89-d64d-412f-edcb-320bc3678e08",
        "colab": {
          "base_uri": "https://localhost:8080/",
          "height": 81
        }
      },
      "source": [
        "# Visualize training history\n",
        "from keras.models import Sequential\n",
        "from keras.layers import Dense\n",
        "import matplotlib.pyplot as plt\n",
        "import numpy\n",
        "from keras.utils import to_categorical"
      ],
      "execution_count": 4,
      "outputs": [
        {
          "output_type": "stream",
          "text": [
            "Using TensorFlow backend.\n"
          ],
          "name": "stderr"
        },
        {
          "output_type": "display_data",
          "data": {
            "text/html": [
              "<p style=\"color: red;\">\n",
              "The default version of TensorFlow in Colab will soon switch to TensorFlow 2.x.<br>\n",
              "We recommend you <a href=\"https://www.tensorflow.org/guide/migrate\" target=\"_blank\">upgrade</a> now \n",
              "or ensure your notebook will continue to use TensorFlow 1.x via the <code>%tensorflow_version 1.x</code> magic:\n",
              "<a href=\"https://colab.research.google.com/notebooks/tensorflow_version.ipynb\" target=\"_blank\">more info</a>.</p>\n"
            ],
            "text/plain": [
              "<IPython.core.display.HTML object>"
            ]
          },
          "metadata": {
            "tags": []
          }
        }
      ]
    },
    {
      "cell_type": "code",
      "metadata": {
        "id": "HKPD3qUQeoDe",
        "colab_type": "code",
        "colab": {}
      },
      "source": [
        "# fix random seed for reproducibility\n",
        "seed = 23\n",
        "numpy.random.seed(seed)\n",
        "# load pima indians dataset\n",
        "dataset = numpy.loadtxt(\"train.csv\", delimiter=\",\")\n",
        "# split into input (X) and output (Y) variables\n",
        "X = dataset[:,0:23]\n",
        "Y = dataset[:,23]"
      ],
      "execution_count": 0,
      "outputs": []
    },
    {
      "cell_type": "code",
      "metadata": {
        "id": "JVlDc58yfOId",
        "colab_type": "code",
        "outputId": "76bac60d-e92c-4a3b-aac9-14a10f0275ca",
        "colab": {
          "base_uri": "https://localhost:8080/",
          "height": 139
        }
      },
      "source": [
        "X"
      ],
      "execution_count": 7,
      "outputs": [
        {
          "output_type": "execute_result",
          "data": {
            "text/plain": [
              "array([[0.9, 1. , 1. , ..., 0.9, 0.9, 1. ],\n",
              "       [0.9, 1. , 1. , ..., 0.9, 0.9, 1. ],\n",
              "       [0.9, 1. , 0.9, ..., 0.9, 0.9, 1. ],\n",
              "       ...,\n",
              "       [1. , 0.9, 0.9, ..., 1. , 1. , 0.9],\n",
              "       [1. , 0.9, 0.9, ..., 1. , 1. , 0.9],\n",
              "       [1. , 0.9, 1. , ..., 1. , 1. , 0.9]])"
            ]
          },
          "metadata": {
            "tags": []
          },
          "execution_count": 7
        }
      ]
    },
    {
      "cell_type": "code",
      "metadata": {
        "id": "eKIfHEqOfTzR",
        "colab_type": "code",
        "outputId": "4eef681b-1b4d-476d-f7d5-4becb5887cff",
        "colab": {
          "base_uri": "https://localhost:8080/",
          "height": 86
        }
      },
      "source": [
        "Y"
      ],
      "execution_count": 8,
      "outputs": [
        {
          "output_type": "execute_result",
          "data": {
            "text/plain": [
              "array([0., 0., 0., 0., 0., 0., 0., 0., 0., 0., 0., 0., 0., 0., 0., 0., 1.,\n",
              "       1., 1., 1., 1., 1., 1., 1., 1., 1., 1., 1., 1., 1., 0., 0., 0., 0.,\n",
              "       0., 0., 0., 0., 0., 0., 1., 1., 1., 1., 1., 1., 1., 1., 1., 1., 1.,\n",
              "       1., 1., 1., 1., 1., 1., 1., 1.])"
            ]
          },
          "metadata": {
            "tags": []
          },
          "execution_count": 8
        }
      ]
    },
    {
      "cell_type": "code",
      "metadata": {
        "id": "ydsfY1E2eqoy",
        "colab_type": "code",
        "colab": {
          "base_uri": "https://localhost:8080/",
          "height": 141
        },
        "outputId": "eda74965-7ee2-4c65-dd28-1354b48d630b"
      },
      "source": [
        "# create model\n",
        "model = Sequential()\n",
        "model.add(Dense(24, input_dim=23, kernel_initializer='uniform', activation='relu'))\n",
        "model.add(Dense(24, kernel_initializer='uniform', activation='relu'))\n",
        "model.add(Dense(1, kernel_initializer='uniform', activation='sigmoid'))"
      ],
      "execution_count": 9,
      "outputs": [
        {
          "output_type": "stream",
          "text": [
            "WARNING:tensorflow:From /usr/local/lib/python3.6/dist-packages/keras/backend/tensorflow_backend.py:66: The name tf.get_default_graph is deprecated. Please use tf.compat.v1.get_default_graph instead.\n",
            "\n",
            "WARNING:tensorflow:From /usr/local/lib/python3.6/dist-packages/keras/backend/tensorflow_backend.py:541: The name tf.placeholder is deprecated. Please use tf.compat.v1.placeholder instead.\n",
            "\n",
            "WARNING:tensorflow:From /usr/local/lib/python3.6/dist-packages/keras/backend/tensorflow_backend.py:4432: The name tf.random_uniform is deprecated. Please use tf.random.uniform instead.\n",
            "\n"
          ],
          "name": "stdout"
        }
      ]
    },
    {
      "cell_type": "code",
      "metadata": {
        "id": "mzgAC0seeu19",
        "colab_type": "code",
        "outputId": "c2db94ef-d2ef-45a3-f330-7a36a77eedb1",
        "colab": {
          "base_uri": "https://localhost:8080/",
          "height": 1000
        }
      },
      "source": [
        "# Compile model\n",
        "model.compile(loss='binary_crossentropy', optimizer='adam', metrics=['accuracy'])\n",
        "# Fit the model\n",
        "history = model.fit(X, Y, validation_split=0.23, epochs=150)\n",
        "# list all data in history\n",
        "print(history.history.keys())"
      ],
      "execution_count": 11,
      "outputs": [
        {
          "output_type": "stream",
          "text": [
            "Train on 45 samples, validate on 14 samples\n",
            "Epoch 1/150\n",
            "45/45 [==============================] - 0s 7ms/step - loss: 0.6691 - acc: 0.5778 - val_loss: 0.8305 - val_acc: 0.0000e+00\n",
            "Epoch 2/150\n",
            "45/45 [==============================] - 0s 183us/step - loss: 0.6694 - acc: 0.5778 - val_loss: 0.8365 - val_acc: 0.0000e+00\n",
            "Epoch 3/150\n",
            "45/45 [==============================] - 0s 138us/step - loss: 0.6689 - acc: 0.5778 - val_loss: 0.8332 - val_acc: 0.0000e+00\n",
            "Epoch 4/150\n",
            "45/45 [==============================] - 0s 145us/step - loss: 0.6681 - acc: 0.5778 - val_loss: 0.8364 - val_acc: 0.0000e+00\n",
            "Epoch 5/150\n",
            "45/45 [==============================] - 0s 144us/step - loss: 0.6679 - acc: 0.5778 - val_loss: 0.8423 - val_acc: 0.0000e+00\n",
            "Epoch 6/150\n",
            "45/45 [==============================] - 0s 160us/step - loss: 0.6677 - acc: 0.5778 - val_loss: 0.8464 - val_acc: 0.0000e+00\n",
            "Epoch 7/150\n",
            "45/45 [==============================] - 0s 192us/step - loss: 0.6676 - acc: 0.5778 - val_loss: 0.8487 - val_acc: 0.0000e+00\n",
            "Epoch 8/150\n",
            "45/45 [==============================] - 0s 188us/step - loss: 0.6673 - acc: 0.5778 - val_loss: 0.8486 - val_acc: 0.0000e+00\n",
            "Epoch 9/150\n",
            "45/45 [==============================] - 0s 188us/step - loss: 0.6671 - acc: 0.5778 - val_loss: 0.8474 - val_acc: 0.0000e+00\n",
            "Epoch 10/150\n",
            "45/45 [==============================] - 0s 167us/step - loss: 0.6668 - acc: 0.5778 - val_loss: 0.8443 - val_acc: 0.0000e+00\n",
            "Epoch 11/150\n",
            "45/45 [==============================] - 0s 211us/step - loss: 0.6669 - acc: 0.5778 - val_loss: 0.8404 - val_acc: 0.0000e+00\n",
            "Epoch 12/150\n",
            "45/45 [==============================] - 0s 239us/step - loss: 0.6663 - acc: 0.5778 - val_loss: 0.8395 - val_acc: 0.0000e+00\n",
            "Epoch 13/150\n",
            "45/45 [==============================] - 0s 238us/step - loss: 0.6660 - acc: 0.5778 - val_loss: 0.8391 - val_acc: 0.0000e+00\n",
            "Epoch 14/150\n",
            "45/45 [==============================] - 0s 212us/step - loss: 0.6658 - acc: 0.5778 - val_loss: 0.8391 - val_acc: 0.0000e+00\n",
            "Epoch 15/150\n",
            "45/45 [==============================] - 0s 168us/step - loss: 0.6655 - acc: 0.5778 - val_loss: 0.8386 - val_acc: 0.0000e+00\n",
            "Epoch 16/150\n",
            "45/45 [==============================] - 0s 159us/step - loss: 0.6652 - acc: 0.5778 - val_loss: 0.8375 - val_acc: 0.0000e+00\n",
            "Epoch 17/150\n",
            "45/45 [==============================] - 0s 238us/step - loss: 0.6649 - acc: 0.5778 - val_loss: 0.8362 - val_acc: 0.0000e+00\n",
            "Epoch 18/150\n",
            "45/45 [==============================] - 0s 176us/step - loss: 0.6646 - acc: 0.5778 - val_loss: 0.8352 - val_acc: 0.0000e+00\n",
            "Epoch 19/150\n",
            "45/45 [==============================] - 0s 211us/step - loss: 0.6643 - acc: 0.5778 - val_loss: 0.8328 - val_acc: 0.0000e+00\n",
            "Epoch 20/150\n",
            "45/45 [==============================] - 0s 175us/step - loss: 0.6640 - acc: 0.5778 - val_loss: 0.8297 - val_acc: 0.0000e+00\n",
            "Epoch 21/150\n",
            "45/45 [==============================] - 0s 239us/step - loss: 0.6635 - acc: 0.5778 - val_loss: 0.8245 - val_acc: 0.0000e+00\n",
            "Epoch 22/150\n",
            "45/45 [==============================] - 0s 224us/step - loss: 0.6631 - acc: 0.5778 - val_loss: 0.8186 - val_acc: 0.0000e+00\n",
            "Epoch 23/150\n",
            "45/45 [==============================] - 0s 171us/step - loss: 0.6631 - acc: 0.5778 - val_loss: 0.8126 - val_acc: 0.0000e+00\n",
            "Epoch 24/150\n",
            "45/45 [==============================] - 0s 200us/step - loss: 0.6627 - acc: 0.5778 - val_loss: 0.8091 - val_acc: 0.0000e+00\n",
            "Epoch 25/150\n",
            "45/45 [==============================] - 0s 220us/step - loss: 0.6623 - acc: 0.5778 - val_loss: 0.8074 - val_acc: 0.0000e+00\n",
            "Epoch 26/150\n",
            "45/45 [==============================] - 0s 199us/step - loss: 0.6619 - acc: 0.5778 - val_loss: 0.8074 - val_acc: 0.0000e+00\n",
            "Epoch 27/150\n",
            "45/45 [==============================] - 0s 197us/step - loss: 0.6614 - acc: 0.5778 - val_loss: 0.8082 - val_acc: 0.0000e+00\n",
            "Epoch 28/150\n",
            "45/45 [==============================] - 0s 173us/step - loss: 0.6609 - acc: 0.5778 - val_loss: 0.8089 - val_acc: 0.0000e+00\n",
            "Epoch 29/150\n",
            "45/45 [==============================] - 0s 179us/step - loss: 0.6604 - acc: 0.5778 - val_loss: 0.8107 - val_acc: 0.0000e+00\n",
            "Epoch 30/150\n",
            "45/45 [==============================] - 0s 154us/step - loss: 0.6599 - acc: 0.5778 - val_loss: 0.8131 - val_acc: 0.0000e+00\n",
            "Epoch 31/150\n",
            "45/45 [==============================] - 0s 137us/step - loss: 0.6600 - acc: 0.5778 - val_loss: 0.8145 - val_acc: 0.0000e+00\n",
            "Epoch 32/150\n",
            "45/45 [==============================] - 0s 144us/step - loss: 0.6588 - acc: 0.5778 - val_loss: 0.8101 - val_acc: 0.0000e+00\n",
            "Epoch 33/150\n",
            "45/45 [==============================] - 0s 168us/step - loss: 0.6583 - acc: 0.5778 - val_loss: 0.8031 - val_acc: 0.0000e+00\n",
            "Epoch 34/150\n",
            "45/45 [==============================] - 0s 163us/step - loss: 0.6578 - acc: 0.5778 - val_loss: 0.7973 - val_acc: 0.0000e+00\n",
            "Epoch 35/150\n",
            "45/45 [==============================] - 0s 181us/step - loss: 0.6575 - acc: 0.5778 - val_loss: 0.7915 - val_acc: 0.0000e+00\n",
            "Epoch 36/150\n",
            "45/45 [==============================] - 0s 166us/step - loss: 0.6571 - acc: 0.5778 - val_loss: 0.7873 - val_acc: 0.0000e+00\n",
            "Epoch 37/150\n",
            "45/45 [==============================] - 0s 152us/step - loss: 0.6565 - acc: 0.5778 - val_loss: 0.7849 - val_acc: 0.0000e+00\n",
            "Epoch 38/150\n",
            "45/45 [==============================] - 0s 163us/step - loss: 0.6558 - acc: 0.5778 - val_loss: 0.7834 - val_acc: 0.0000e+00\n",
            "Epoch 39/150\n",
            "45/45 [==============================] - 0s 142us/step - loss: 0.6551 - acc: 0.5778 - val_loss: 0.7825 - val_acc: 0.0000e+00\n",
            "Epoch 40/150\n",
            "45/45 [==============================] - 0s 166us/step - loss: 0.6544 - acc: 0.5778 - val_loss: 0.7828 - val_acc: 0.0000e+00\n",
            "Epoch 41/150\n",
            "45/45 [==============================] - 0s 156us/step - loss: 0.6536 - acc: 0.5778 - val_loss: 0.7861 - val_acc: 0.0000e+00\n",
            "Epoch 42/150\n",
            "45/45 [==============================] - 0s 146us/step - loss: 0.6527 - acc: 0.5778 - val_loss: 0.7908 - val_acc: 0.0000e+00\n",
            "Epoch 43/150\n",
            "45/45 [==============================] - 0s 149us/step - loss: 0.6521 - acc: 0.5778 - val_loss: 0.7969 - val_acc: 0.0000e+00\n",
            "Epoch 44/150\n",
            "45/45 [==============================] - 0s 150us/step - loss: 0.6514 - acc: 0.5778 - val_loss: 0.7993 - val_acc: 0.0000e+00\n",
            "Epoch 45/150\n",
            "45/45 [==============================] - 0s 164us/step - loss: 0.6505 - acc: 0.5778 - val_loss: 0.7967 - val_acc: 0.0000e+00\n",
            "Epoch 46/150\n",
            "45/45 [==============================] - 0s 198us/step - loss: 0.6496 - acc: 0.5778 - val_loss: 0.7912 - val_acc: 0.0000e+00\n",
            "Epoch 47/150\n",
            "45/45 [==============================] - 0s 219us/step - loss: 0.6488 - acc: 0.5778 - val_loss: 0.7865 - val_acc: 0.0000e+00\n",
            "Epoch 48/150\n",
            "45/45 [==============================] - 0s 229us/step - loss: 0.6478 - acc: 0.5778 - val_loss: 0.7796 - val_acc: 0.0000e+00\n",
            "Epoch 49/150\n",
            "45/45 [==============================] - 0s 229us/step - loss: 0.6472 - acc: 0.5778 - val_loss: 0.7751 - val_acc: 0.0000e+00\n",
            "Epoch 50/150\n",
            "45/45 [==============================] - 0s 205us/step - loss: 0.6459 - acc: 0.5778 - val_loss: 0.7748 - val_acc: 0.0000e+00\n",
            "Epoch 51/150\n",
            "45/45 [==============================] - 0s 167us/step - loss: 0.6448 - acc: 0.5778 - val_loss: 0.7736 - val_acc: 0.0000e+00\n",
            "Epoch 52/150\n",
            "45/45 [==============================] - 0s 161us/step - loss: 0.6437 - acc: 0.5778 - val_loss: 0.7719 - val_acc: 0.0000e+00\n",
            "Epoch 53/150\n",
            "45/45 [==============================] - 0s 171us/step - loss: 0.6427 - acc: 0.5778 - val_loss: 0.7710 - val_acc: 0.0000e+00\n",
            "Epoch 54/150\n",
            "45/45 [==============================] - 0s 166us/step - loss: 0.6421 - acc: 0.5778 - val_loss: 0.7679 - val_acc: 0.0000e+00\n",
            "Epoch 55/150\n",
            "45/45 [==============================] - 0s 162us/step - loss: 0.6410 - acc: 0.5778 - val_loss: 0.7613 - val_acc: 0.0000e+00\n",
            "Epoch 56/150\n",
            "45/45 [==============================] - 0s 164us/step - loss: 0.6395 - acc: 0.5778 - val_loss: 0.7605 - val_acc: 0.0000e+00\n",
            "Epoch 57/150\n",
            "45/45 [==============================] - 0s 137us/step - loss: 0.6380 - acc: 0.5778 - val_loss: 0.7637 - val_acc: 0.0000e+00\n",
            "Epoch 58/150\n",
            "45/45 [==============================] - 0s 164us/step - loss: 0.6370 - acc: 0.5778 - val_loss: 0.7711 - val_acc: 0.0000e+00\n",
            "Epoch 59/150\n",
            "45/45 [==============================] - 0s 157us/step - loss: 0.6379 - acc: 0.5778 - val_loss: 0.7724 - val_acc: 0.0000e+00\n",
            "Epoch 60/150\n",
            "45/45 [==============================] - 0s 151us/step - loss: 0.6351 - acc: 0.5778 - val_loss: 0.7636 - val_acc: 0.0000e+00\n",
            "Epoch 61/150\n",
            "45/45 [==============================] - 0s 203us/step - loss: 0.6333 - acc: 0.5778 - val_loss: 0.7602 - val_acc: 0.0000e+00\n",
            "Epoch 62/150\n",
            "45/45 [==============================] - 0s 174us/step - loss: 0.6319 - acc: 0.5778 - val_loss: 0.7598 - val_acc: 0.0000e+00\n",
            "Epoch 63/150\n",
            "45/45 [==============================] - 0s 158us/step - loss: 0.6304 - acc: 0.5778 - val_loss: 0.7587 - val_acc: 0.0000e+00\n",
            "Epoch 64/150\n",
            "45/45 [==============================] - 0s 159us/step - loss: 0.6290 - acc: 0.5778 - val_loss: 0.7566 - val_acc: 0.0000e+00\n",
            "Epoch 65/150\n",
            "45/45 [==============================] - 0s 169us/step - loss: 0.6276 - acc: 0.5778 - val_loss: 0.7539 - val_acc: 0.0000e+00\n",
            "Epoch 66/150\n",
            "45/45 [==============================] - 0s 158us/step - loss: 0.6259 - acc: 0.5778 - val_loss: 0.7503 - val_acc: 0.0000e+00\n",
            "Epoch 67/150\n",
            "45/45 [==============================] - 0s 179us/step - loss: 0.6245 - acc: 0.5778 - val_loss: 0.7479 - val_acc: 0.0000e+00\n",
            "Epoch 68/150\n",
            "45/45 [==============================] - 0s 163us/step - loss: 0.6231 - acc: 0.5778 - val_loss: 0.7465 - val_acc: 0.0000e+00\n",
            "Epoch 69/150\n",
            "45/45 [==============================] - 0s 195us/step - loss: 0.6218 - acc: 0.5778 - val_loss: 0.7467 - val_acc: 0.0000e+00\n",
            "Epoch 70/150\n",
            "45/45 [==============================] - 0s 170us/step - loss: 0.6199 - acc: 0.5778 - val_loss: 0.7461 - val_acc: 0.0000e+00\n",
            "Epoch 71/150\n",
            "45/45 [==============================] - 0s 183us/step - loss: 0.6178 - acc: 0.5778 - val_loss: 0.7498 - val_acc: 0.0000e+00\n",
            "Epoch 72/150\n",
            "45/45 [==============================] - 0s 175us/step - loss: 0.6165 - acc: 0.5778 - val_loss: 0.7564 - val_acc: 0.0000e+00\n",
            "Epoch 73/150\n",
            "45/45 [==============================] - 0s 166us/step - loss: 0.6158 - acc: 0.5778 - val_loss: 0.7606 - val_acc: 0.0000e+00\n",
            "Epoch 74/150\n",
            "45/45 [==============================] - 0s 166us/step - loss: 0.6142 - acc: 0.5778 - val_loss: 0.7671 - val_acc: 0.0000e+00\n",
            "Epoch 75/150\n",
            "45/45 [==============================] - 0s 174us/step - loss: 0.6127 - acc: 0.5778 - val_loss: 0.7624 - val_acc: 0.0000e+00\n",
            "Epoch 76/150\n",
            "45/45 [==============================] - 0s 182us/step - loss: 0.6106 - acc: 0.5778 - val_loss: 0.7529 - val_acc: 0.0000e+00\n",
            "Epoch 77/150\n",
            "45/45 [==============================] - 0s 209us/step - loss: 0.6081 - acc: 0.5778 - val_loss: 0.7493 - val_acc: 0.0000e+00\n",
            "Epoch 78/150\n",
            "45/45 [==============================] - 0s 185us/step - loss: 0.6060 - acc: 0.5778 - val_loss: 0.7493 - val_acc: 0.0000e+00\n",
            "Epoch 79/150\n",
            "45/45 [==============================] - 0s 193us/step - loss: 0.6037 - acc: 0.5778 - val_loss: 0.7516 - val_acc: 0.0000e+00\n",
            "Epoch 80/150\n",
            "45/45 [==============================] - 0s 173us/step - loss: 0.6019 - acc: 0.5778 - val_loss: 0.7517 - val_acc: 0.0000e+00\n",
            "Epoch 81/150\n",
            "45/45 [==============================] - 0s 174us/step - loss: 0.6001 - acc: 0.5778 - val_loss: 0.7496 - val_acc: 0.0000e+00\n",
            "Epoch 82/150\n",
            "45/45 [==============================] - 0s 161us/step - loss: 0.5980 - acc: 0.5778 - val_loss: 0.7469 - val_acc: 0.0000e+00\n",
            "Epoch 83/150\n",
            "45/45 [==============================] - 0s 195us/step - loss: 0.5953 - acc: 0.5778 - val_loss: 0.7403 - val_acc: 0.0000e+00\n",
            "Epoch 84/150\n",
            "45/45 [==============================] - 0s 194us/step - loss: 0.5928 - acc: 0.5778 - val_loss: 0.7333 - val_acc: 0.0000e+00\n",
            "Epoch 85/150\n",
            "45/45 [==============================] - 0s 180us/step - loss: 0.5915 - acc: 0.5778 - val_loss: 0.7293 - val_acc: 0.0000e+00\n",
            "Epoch 86/150\n",
            "45/45 [==============================] - 0s 168us/step - loss: 0.5891 - acc: 0.5778 - val_loss: 0.7306 - val_acc: 0.0000e+00\n",
            "Epoch 87/150\n",
            "45/45 [==============================] - 0s 153us/step - loss: 0.5857 - acc: 0.5778 - val_loss: 0.7358 - val_acc: 0.0000e+00\n",
            "Epoch 88/150\n",
            "45/45 [==============================] - 0s 148us/step - loss: 0.5860 - acc: 0.5778 - val_loss: 0.7392 - val_acc: 0.0000e+00\n",
            "Epoch 89/150\n",
            "45/45 [==============================] - 0s 157us/step - loss: 0.5853 - acc: 0.5778 - val_loss: 0.7285 - val_acc: 0.0000e+00\n",
            "Epoch 90/150\n",
            "45/45 [==============================] - 0s 148us/step - loss: 0.5808 - acc: 0.5778 - val_loss: 0.7157 - val_acc: 0.0000e+00\n",
            "Epoch 91/150\n",
            "45/45 [==============================] - 0s 158us/step - loss: 0.5775 - acc: 0.5778 - val_loss: 0.7114 - val_acc: 0.0000e+00\n",
            "Epoch 92/150\n",
            "45/45 [==============================] - 0s 156us/step - loss: 0.5751 - acc: 0.5778 - val_loss: 0.7136 - val_acc: 0.0000e+00\n",
            "Epoch 93/150\n",
            "45/45 [==============================] - 0s 182us/step - loss: 0.5714 - acc: 0.5778 - val_loss: 0.7156 - val_acc: 0.5714\n",
            "Epoch 94/150\n",
            "45/45 [==============================] - 0s 165us/step - loss: 0.5695 - acc: 0.6000 - val_loss: 0.7141 - val_acc: 0.6429\n",
            "Epoch 95/150\n",
            "45/45 [==============================] - 0s 166us/step - loss: 0.5686 - acc: 0.6000 - val_loss: 0.7084 - val_acc: 0.7857\n",
            "Epoch 96/150\n",
            "45/45 [==============================] - 0s 160us/step - loss: 0.5650 - acc: 0.6444 - val_loss: 0.6954 - val_acc: 0.7857\n",
            "Epoch 97/150\n",
            "45/45 [==============================] - 0s 184us/step - loss: 0.5632 - acc: 0.7333 - val_loss: 0.6898 - val_acc: 0.8571\n",
            "Epoch 98/150\n",
            "45/45 [==============================] - 0s 223us/step - loss: 0.5607 - acc: 0.7333 - val_loss: 0.6839 - val_acc: 0.8571\n",
            "Epoch 99/150\n",
            "45/45 [==============================] - 0s 193us/step - loss: 0.5576 - acc: 0.7333 - val_loss: 0.6808 - val_acc: 0.8571\n",
            "Epoch 100/150\n",
            "45/45 [==============================] - 0s 190us/step - loss: 0.5532 - acc: 0.7333 - val_loss: 0.6793 - val_acc: 0.7857\n",
            "Epoch 101/150\n",
            "45/45 [==============================] - 0s 211us/step - loss: 0.5513 - acc: 0.7333 - val_loss: 0.6738 - val_acc: 0.7857\n",
            "Epoch 102/150\n",
            "45/45 [==============================] - 0s 202us/step - loss: 0.5482 - acc: 0.7333 - val_loss: 0.6611 - val_acc: 0.8571\n",
            "Epoch 103/150\n",
            "45/45 [==============================] - 0s 170us/step - loss: 0.5445 - acc: 0.7333 - val_loss: 0.6492 - val_acc: 0.8571\n",
            "Epoch 104/150\n",
            "45/45 [==============================] - 0s 197us/step - loss: 0.5443 - acc: 0.8000 - val_loss: 0.6417 - val_acc: 0.8571\n",
            "Epoch 105/150\n",
            "45/45 [==============================] - 0s 227us/step - loss: 0.5414 - acc: 0.8000 - val_loss: 0.6416 - val_acc: 0.8571\n",
            "Epoch 106/150\n",
            "45/45 [==============================] - 0s 211us/step - loss: 0.5373 - acc: 0.7556 - val_loss: 0.6433 - val_acc: 0.8571\n",
            "Epoch 107/150\n",
            "45/45 [==============================] - 0s 177us/step - loss: 0.5342 - acc: 0.7333 - val_loss: 0.6360 - val_acc: 0.8571\n",
            "Epoch 108/150\n",
            "45/45 [==============================] - 0s 170us/step - loss: 0.5297 - acc: 0.7778 - val_loss: 0.6257 - val_acc: 0.8571\n",
            "Epoch 109/150\n",
            "45/45 [==============================] - 0s 166us/step - loss: 0.5285 - acc: 0.8000 - val_loss: 0.6190 - val_acc: 0.9286\n",
            "Epoch 110/150\n",
            "45/45 [==============================] - 0s 184us/step - loss: 0.5256 - acc: 0.8444 - val_loss: 0.6132 - val_acc: 0.9286\n",
            "Epoch 111/150\n",
            "45/45 [==============================] - 0s 173us/step - loss: 0.5218 - acc: 0.8222 - val_loss: 0.6150 - val_acc: 0.8571\n",
            "Epoch 112/150\n",
            "45/45 [==============================] - 0s 175us/step - loss: 0.5172 - acc: 0.8000 - val_loss: 0.6150 - val_acc: 0.8571\n",
            "Epoch 113/150\n",
            "45/45 [==============================] - 0s 181us/step - loss: 0.5145 - acc: 0.8000 - val_loss: 0.6076 - val_acc: 0.8571\n",
            "Epoch 114/150\n",
            "45/45 [==============================] - 0s 201us/step - loss: 0.5110 - acc: 0.8000 - val_loss: 0.5981 - val_acc: 0.9286\n",
            "Epoch 115/150\n",
            "45/45 [==============================] - 0s 161us/step - loss: 0.5071 - acc: 0.8222 - val_loss: 0.5970 - val_acc: 0.8571\n",
            "Epoch 116/150\n",
            "45/45 [==============================] - 0s 174us/step - loss: 0.5050 - acc: 0.8000 - val_loss: 0.5944 - val_acc: 0.8571\n",
            "Epoch 117/150\n",
            "45/45 [==============================] - 0s 197us/step - loss: 0.5012 - acc: 0.8000 - val_loss: 0.5870 - val_acc: 0.9286\n",
            "Epoch 118/150\n",
            "45/45 [==============================] - 0s 181us/step - loss: 0.4975 - acc: 0.8444 - val_loss: 0.5868 - val_acc: 0.8571\n",
            "Epoch 119/150\n",
            "45/45 [==============================] - 0s 190us/step - loss: 0.4937 - acc: 0.8222 - val_loss: 0.5835 - val_acc: 0.8571\n",
            "Epoch 120/150\n",
            "45/45 [==============================] - 0s 167us/step - loss: 0.4899 - acc: 0.8000 - val_loss: 0.5875 - val_acc: 0.8571\n",
            "Epoch 121/150\n",
            "45/45 [==============================] - 0s 175us/step - loss: 0.4881 - acc: 0.8000 - val_loss: 0.5901 - val_acc: 0.8571\n",
            "Epoch 122/150\n",
            "45/45 [==============================] - 0s 162us/step - loss: 0.4876 - acc: 0.7778 - val_loss: 0.5781 - val_acc: 0.8571\n",
            "Epoch 123/150\n",
            "45/45 [==============================] - 0s 163us/step - loss: 0.4799 - acc: 0.8222 - val_loss: 0.5626 - val_acc: 0.9286\n",
            "Epoch 124/150\n",
            "45/45 [==============================] - 0s 180us/step - loss: 0.4770 - acc: 0.8444 - val_loss: 0.5533 - val_acc: 0.9286\n",
            "Epoch 125/150\n",
            "45/45 [==============================] - 0s 177us/step - loss: 0.4762 - acc: 0.8667 - val_loss: 0.5473 - val_acc: 1.0000\n",
            "Epoch 126/150\n",
            "45/45 [==============================] - 0s 168us/step - loss: 0.4738 - acc: 0.8889 - val_loss: 0.5453 - val_acc: 1.0000\n",
            "Epoch 127/150\n",
            "45/45 [==============================] - 0s 161us/step - loss: 0.4678 - acc: 0.8667 - val_loss: 0.5527 - val_acc: 0.9286\n",
            "Epoch 128/150\n",
            "45/45 [==============================] - 0s 170us/step - loss: 0.4622 - acc: 0.8444 - val_loss: 0.5614 - val_acc: 0.8571\n",
            "Epoch 129/150\n",
            "45/45 [==============================] - 0s 203us/step - loss: 0.4627 - acc: 0.8000 - val_loss: 0.5543 - val_acc: 0.8571\n",
            "Epoch 130/150\n",
            "45/45 [==============================] - 0s 182us/step - loss: 0.4578 - acc: 0.8222 - val_loss: 0.5408 - val_acc: 0.9286\n",
            "Epoch 131/150\n",
            "45/45 [==============================] - 0s 306us/step - loss: 0.4513 - acc: 0.8444 - val_loss: 0.5313 - val_acc: 0.9286\n",
            "Epoch 132/150\n",
            "45/45 [==============================] - 0s 183us/step - loss: 0.4495 - acc: 0.8444 - val_loss: 0.5292 - val_acc: 0.9286\n",
            "Epoch 133/150\n",
            "45/45 [==============================] - 0s 171us/step - loss: 0.4437 - acc: 0.8444 - val_loss: 0.5360 - val_acc: 0.9286\n",
            "Epoch 134/150\n",
            "45/45 [==============================] - 0s 174us/step - loss: 0.4431 - acc: 0.8222 - val_loss: 0.5320 - val_acc: 0.9286\n",
            "Epoch 135/150\n",
            "45/45 [==============================] - 0s 167us/step - loss: 0.4375 - acc: 0.8444 - val_loss: 0.5141 - val_acc: 0.9286\n",
            "Epoch 136/150\n",
            "45/45 [==============================] - 0s 157us/step - loss: 0.4327 - acc: 0.8667 - val_loss: 0.5004 - val_acc: 1.0000\n",
            "Epoch 137/150\n",
            "45/45 [==============================] - 0s 171us/step - loss: 0.4351 - acc: 0.9556 - val_loss: 0.4928 - val_acc: 1.0000\n",
            "Epoch 138/150\n",
            "45/45 [==============================] - 0s 183us/step - loss: 0.4337 - acc: 0.9556 - val_loss: 0.4965 - val_acc: 1.0000\n",
            "Epoch 139/150\n",
            "45/45 [==============================] - 0s 197us/step - loss: 0.4241 - acc: 0.8889 - val_loss: 0.5090 - val_acc: 0.9286\n",
            "Epoch 140/150\n",
            "45/45 [==============================] - 0s 184us/step - loss: 0.4202 - acc: 0.8444 - val_loss: 0.5150 - val_acc: 0.8571\n",
            "Epoch 141/150\n",
            "45/45 [==============================] - 0s 185us/step - loss: 0.4222 - acc: 0.8222 - val_loss: 0.5078 - val_acc: 0.9286\n",
            "Epoch 142/150\n",
            "45/45 [==============================] - 0s 178us/step - loss: 0.4150 - acc: 0.8444 - val_loss: 0.4844 - val_acc: 1.0000\n",
            "Epoch 143/150\n",
            "45/45 [==============================] - 0s 206us/step - loss: 0.4082 - acc: 0.9111 - val_loss: 0.4644 - val_acc: 1.0000\n",
            "Epoch 144/150\n",
            "45/45 [==============================] - 0s 184us/step - loss: 0.4194 - acc: 0.9778 - val_loss: 0.4598 - val_acc: 1.0000\n",
            "Epoch 145/150\n",
            "45/45 [==============================] - 0s 206us/step - loss: 0.4113 - acc: 0.9778 - val_loss: 0.4724 - val_acc: 1.0000\n",
            "Epoch 146/150\n",
            "45/45 [==============================] - 0s 192us/step - loss: 0.3969 - acc: 0.8889 - val_loss: 0.4972 - val_acc: 0.8571\n",
            "Epoch 147/150\n",
            "45/45 [==============================] - 0s 240us/step - loss: 0.4081 - acc: 0.8000 - val_loss: 0.4967 - val_acc: 0.8571\n",
            "Epoch 148/150\n",
            "45/45 [==============================] - 0s 228us/step - loss: 0.4045 - acc: 0.8000 - val_loss: 0.4669 - val_acc: 0.9286\n",
            "Epoch 149/150\n",
            "45/45 [==============================] - 0s 216us/step - loss: 0.3849 - acc: 0.8889 - val_loss: 0.4421 - val_acc: 1.0000\n",
            "Epoch 150/150\n",
            "45/45 [==============================] - 0s 213us/step - loss: 0.3976 - acc: 0.9778 - val_loss: 0.4322 - val_acc: 1.0000\n",
            "dict_keys(['val_loss', 'val_acc', 'loss', 'acc'])\n"
          ],
          "name": "stdout"
        }
      ]
    },
    {
      "cell_type": "code",
      "metadata": {
        "id": "xA0cQQd8cOs6",
        "colab_type": "code",
        "outputId": "7e98216e-1bc0-4af9-f935-74c5709bb0e9",
        "colab": {
          "base_uri": "https://localhost:8080/",
          "height": 573
        }
      },
      "source": [
        "# summarize history for accuracy\n",
        "plt.plot(history.history['acc'])\n",
        "plt.plot(history.history['val_acc'])\n",
        "plt.title('model accuracy')\n",
        "plt.ylabel('accuracy')\n",
        "plt.xlabel('epoch')\n",
        "plt.legend(['train', 'test'], loc='upper left')\n",
        "plt.show()\n",
        "# summarize history for loss\n",
        "plt.plot(history.history['loss'])\n",
        "plt.plot(history.history['val_loss'])\n",
        "plt.title('model loss')\n",
        "plt.ylabel('loss')\n",
        "plt.xlabel('epoch')\n",
        "plt.legend(['train', 'test'], loc='upper left')\n",
        "plt.show()"
      ],
      "execution_count": 12,
      "outputs": [
        {
          "output_type": "display_data",
          "data": {
            "image/png": "[encoded data removed]",
            "text/plain": [
              "<Figure size 432x288 with 1 Axes>"
            ]
          },
          "metadata": {
            "tags": []
          }
        },
        {
          "output_type": "display_data",
          "data": {
            "image/png": "[encoded data removed]",
            "text/plain": [
              "<Figure size 432x288 with 1 Axes>"
            ]
          },
          "metadata": {
            "tags": []
          }
        }
      ]
    }
  ]
}